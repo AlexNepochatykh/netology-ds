{
 "cells": [
  {
   "cell_type": "markdown",
   "metadata": {},
   "source": [
    "Реализовать самостоятельно логистическую регрессию  \n",
    "Обучить ее методом градиентного спуска  \n",
    "Методом nesterov momentum  \n",
    "Методом rmsprop  "
   ]
  },
  {
   "cell_type": "code",
   "execution_count": 1,
   "metadata": {},
   "outputs": [],
   "source": [
    "from sklearn import datasets\n",
    "import pandas as pd\n",
    "import numpy as np\n",
    "\n",
    "from matplotlib import pyplot as plt\n",
    "%matplotlib inline\n",
    "\n",
    "from sklearn.linear_model import LogisticRegression\n",
    "from sklearn.preprocessing import StandardScaler\n",
    "from sklearn.model_selection import train_test_split\n",
    "\n",
    "import warnings\n",
    "warnings.filterwarnings('ignore')"
   ]
  },
  {
   "cell_type": "markdown",
   "metadata": {},
   "source": [
    "В качестве dataset'а взять Iris, оставив 2 класса: Iris Versicolor и Iris Virginica  "
   ]
  },
  {
   "cell_type": "code",
   "execution_count": 2,
   "metadata": {},
   "outputs": [],
   "source": [
    "iris = datasets.load_iris()\n",
    "X = pd.DataFrame(iris.data, columns=iris.feature_names)\n",
    "y = pd.DataFrame(iris.target, columns=['target'])\n",
    "df = pd.concat([X, y], axis=1)"
   ]
  },
  {
   "cell_type": "markdown",
   "metadata": {},
   "source": [
    "Возьмем только 2 класса Iris Versicolor и Iris Virginica (индексы 1 и 2)"
   ]
  },
  {
   "cell_type": "code",
   "execution_count": 3,
   "metadata": {},
   "outputs": [
    {
     "data": {
      "text/plain": [
       "array(['setosa', 'versicolor', 'virginica'], dtype='<U10')"
      ]
     },
     "execution_count": 3,
     "metadata": {},
     "output_type": "execute_result"
    }
   ],
   "source": [
    "iris.target_names"
   ]
  },
  {
   "cell_type": "code",
   "execution_count": 4,
   "metadata": {},
   "outputs": [
    {
     "data": {
      "text/plain": [
       "1    50\n",
       "0    50\n",
       "Name: target, dtype: int64"
      ]
     },
     "execution_count": 4,
     "metadata": {},
     "output_type": "execute_result"
    }
   ],
   "source": [
    "df = df[(df['target'] == 1) | (df['target'] == 2)]\n",
    "df['target'] = df['target'].map({1 : 0, 2 : 1})\n",
    "X = pd.DataFrame(iris.data, columns=iris.feature_names)\n",
    "y = pd.DataFrame(iris.target, columns=['target'])\n",
    "df.target.value_counts()"
   ]
  },
  {
   "cell_type": "code",
   "execution_count": 5,
   "metadata": {},
   "outputs": [
    {
     "data": {
      "text/html": [
       "<div>\n",
       "<style scoped>\n",
       "    .dataframe tbody tr th:only-of-type {\n",
       "        vertical-align: middle;\n",
       "    }\n",
       "\n",
       "    .dataframe tbody tr th {\n",
       "        vertical-align: top;\n",
       "    }\n",
       "\n",
       "    .dataframe thead th {\n",
       "        text-align: right;\n",
       "    }\n",
       "</style>\n",
       "<table border=\"1\" class=\"dataframe\">\n",
       "  <thead>\n",
       "    <tr style=\"text-align: right;\">\n",
       "      <th></th>\n",
       "      <th>sepal length (cm)</th>\n",
       "      <th>sepal width (cm)</th>\n",
       "      <th>petal length (cm)</th>\n",
       "      <th>petal width (cm)</th>\n",
       "      <th>target</th>\n",
       "    </tr>\n",
       "  </thead>\n",
       "  <tbody>\n",
       "    <tr>\n",
       "      <th>50</th>\n",
       "      <td>7.0</td>\n",
       "      <td>3.2</td>\n",
       "      <td>4.7</td>\n",
       "      <td>1.4</td>\n",
       "      <td>0</td>\n",
       "    </tr>\n",
       "    <tr>\n",
       "      <th>51</th>\n",
       "      <td>6.4</td>\n",
       "      <td>3.2</td>\n",
       "      <td>4.5</td>\n",
       "      <td>1.5</td>\n",
       "      <td>0</td>\n",
       "    </tr>\n",
       "    <tr>\n",
       "      <th>52</th>\n",
       "      <td>6.9</td>\n",
       "      <td>3.1</td>\n",
       "      <td>4.9</td>\n",
       "      <td>1.5</td>\n",
       "      <td>0</td>\n",
       "    </tr>\n",
       "    <tr>\n",
       "      <th>53</th>\n",
       "      <td>5.5</td>\n",
       "      <td>2.3</td>\n",
       "      <td>4.0</td>\n",
       "      <td>1.3</td>\n",
       "      <td>0</td>\n",
       "    </tr>\n",
       "    <tr>\n",
       "      <th>54</th>\n",
       "      <td>6.5</td>\n",
       "      <td>2.8</td>\n",
       "      <td>4.6</td>\n",
       "      <td>1.5</td>\n",
       "      <td>0</td>\n",
       "    </tr>\n",
       "  </tbody>\n",
       "</table>\n",
       "</div>"
      ],
      "text/plain": [
       "    sepal length (cm)  sepal width (cm)  petal length (cm)  petal width (cm)  \\\n",
       "50                7.0               3.2                4.7               1.4   \n",
       "51                6.4               3.2                4.5               1.5   \n",
       "52                6.9               3.1                4.9               1.5   \n",
       "53                5.5               2.3                4.0               1.3   \n",
       "54                6.5               2.8                4.6               1.5   \n",
       "\n",
       "    target  \n",
       "50       0  \n",
       "51       0  \n",
       "52       0  \n",
       "53       0  \n",
       "54       0  "
      ]
     },
     "execution_count": 5,
     "metadata": {},
     "output_type": "execute_result"
    }
   ],
   "source": [
    "df.head()"
   ]
  },
  {
   "cell_type": "markdown",
   "metadata": {},
   "source": [
    "Построим логистическую регрессию, чтобы посмотреть качество и коэффициенты"
   ]
  },
  {
   "cell_type": "code",
   "execution_count": 6,
   "metadata": {},
   "outputs": [],
   "source": [
    "scaler = StandardScaler()\n",
    "scaler.fit(df.drop('target', axis=1))\n",
    "df_scaled = scaler.transform(df.drop('target', axis=1))\n",
    "df_scaled = pd.DataFrame(df_scaled, columns=df.drop('target', axis=1).columns)"
   ]
  },
  {
   "cell_type": "code",
   "execution_count": 7,
   "metadata": {},
   "outputs": [
    {
     "name": "stdout",
     "output_type": "stream",
     "text": [
      "1.0\n"
     ]
    }
   ],
   "source": [
    "X = df_scaled\n",
    "y = df['target']\n",
    "X_train, X_test, y_train, y_test = train_test_split(X, y, test_size=0.2)\n",
    "\n",
    "log_reg = LogisticRegression()\n",
    "log_reg.fit(X_train, y_train)\n",
    "print(log_reg.score(X_test, y_test))"
   ]
  },
  {
   "cell_type": "markdown",
   "metadata": {},
   "source": [
    "Реализуем логистическую регрессию и обучим ее различными методами \n",
    "градиентным спуском"
   ]
  },
  {
   "cell_type": "code",
   "execution_count": 8,
   "metadata": {},
   "outputs": [],
   "source": [
    "from sklearn.metrics import log_loss\n",
    "from scipy.special import expit\n",
    "\n",
    "class AbstractLogRegLearner:\n",
    "    def __init__(self, features, labels, weights, learning_rate=0.0001, epochs=10000):\n",
    "        self.features = features\n",
    "        self.labels = labels\n",
    "        self.weights = weights \n",
    "        self.learning_rate = learning_rate\n",
    "        self.epochs = epochs\n",
    "        self.cost_history = []\n",
    "        print('Init weights : ', weights.T)\n",
    "        \n",
    "    def cost_function(self):\n",
    "        predictions = expit(np.dot(self.features, self.weights))\n",
    "        return log_loss(self.labels, predictions, eps=1e-15)\n",
    "\n",
    "    # customize this function\n",
    "    def update_weights(self):\n",
    "        raise('update_weights method is undefined. Use another Learner class')\n",
    "\n",
    "    def train(self):\n",
    "        self.cost_history = []\n",
    "        for i in range(self.epochs):\n",
    "            self.update_weights()\n",
    "            self.cost_history.append(self.cost_function())"
   ]
  },
  {
   "cell_type": "code",
   "execution_count": 9,
   "metadata": {},
   "outputs": [],
   "source": [
    "class GDLearner(AbstractLogRegLearner):\n",
    "    def update_weights(self):\n",
    "        predictions = expit(np.dot(self.features, self.weights))\n",
    "        # градиент имеет вид, подобный виду линейной регрессии\n",
    "        # с использованием numpy градиент можно записать в удобном виде\n",
    "        gradient = self.learning_rate / len(self.features) \\\n",
    "            * np.dot(self.features.T,  predictions - self.labels.reshape(-1,1))\n",
    "        self.weights -= gradient\n",
    "        return"
   ]
  },
  {
   "cell_type": "code",
   "execution_count": 10,
   "metadata": {},
   "outputs": [],
   "source": [
    "class NesterovMomentumLearner(AbstractLogRegLearner):    \n",
    "    # gamma - coef used inside update_weights \n",
    "    def __init__(self, features, labels, weights, learning_rate=0.0001, epochs=10000, gamma=0.9):\n",
    "        AbstractLogRegLearner.__init__(self, features, labels, weights, learning_rate, epochs)\n",
    "        self.gamma = gamma\n",
    "        self.old_velocity = 0\n",
    "        \n",
    "    def update_weights(self):\n",
    "        predictions = expit(np.dot(self.features, self.weights))\n",
    "        # gradient высчитываем с учетом скорости на предыдущем шаге\n",
    "        gradient = self.learning_rate / len(self.features) \\\n",
    "            * np.dot(self.features.T,  predictions - self.labels.reshape(-1,1))\n",
    "        velocity = self.gamma * self.old_velocity + gradient\n",
    "        self.weights -= velocity\n",
    "        self.old_velocity = velocity"
   ]
  },
  {
   "cell_type": "code",
   "execution_count": 11,
   "metadata": {},
   "outputs": [],
   "source": [
    "class RMSPropLearner(AbstractLogRegLearner):\n",
    "    def __init__(self, features, labels, weights, learning_rate=0.0001, epochs=10000, gamma=0.9):\n",
    "        AbstractLogRegLearner.__init__(self, features, labels, weights, learning_rate, epochs)\n",
    "        self.gamma = gamma\n",
    "        self.e_grad_prev = 0\n",
    "\n",
    "    def update_weights(self):\n",
    "        predictions = expit(np.dot(self.features, self.weights))\n",
    "        # gradient высчитываем с учетом скорости на предыдущем шаге\n",
    "        gradient = self.learning_rate / len(self.features) \\\n",
    "            * np.dot(self.features.T,  predictions - self.labels.reshape(-1,1))\n",
    "        e_grad = self.gamma * self.e_grad_prev + (1 - self.gamma) * (gradient ** 2)\n",
    "        self.weights -= self.learning_rate * gradient / np.sqrt(e_grad)\n",
    "        self.e_grad_pred = e_grad"
   ]
  },
  {
   "cell_type": "markdown",
   "metadata": {},
   "source": [
    "Подготовим данные для расчета. Первая переменная - свободный коэффициент, остальные 4 - коэффициенты при фичах"
   ]
  },
  {
   "cell_type": "code",
   "execution_count": 12,
   "metadata": {},
   "outputs": [],
   "source": [
    "features = np.hstack( (np.ones(len(y)).reshape(-1,1), X.as_matrix() ) )\n",
    "labels = y.as_matrix()"
   ]
  },
  {
   "cell_type": "code",
   "execution_count": 13,
   "metadata": {},
   "outputs": [
    {
     "name": "stdout",
     "output_type": "stream",
     "text": [
      "[[ 0.81676304]\n",
      " [ 1.23981919]\n",
      " [ 1.38182212]\n",
      " [-0.27366588]\n",
      " [ 0.34856358]]\n"
     ]
    }
   ],
   "source": [
    "weights = np.random.normal(size=(5,)).reshape(-1,1) \n",
    "print(weights)"
   ]
  },
  {
   "cell_type": "markdown",
   "metadata": {},
   "source": [
    "Обучим логистическую регрессию различными методами"
   ]
  },
  {
   "cell_type": "code",
   "execution_count": 14,
   "metadata": {},
   "outputs": [
    {
     "name": "stdout",
     "output_type": "stream",
     "text": [
      "Init weights :  [[ 0.81676304  1.23981919  1.38182212 -0.27366588  0.34856358]]\n",
      "Gradient descent learner\n",
      "Final weights :  [[0.27292991 0.82264849 0.35054524 0.67013495 1.48374973]]\n",
      "Ideal weights :  [-0.00414641] [[-0.25860988 -0.5521781   2.14482214  2.16024848]]\n"
     ]
    },
    {
     "data": {
      "text/plain": [
       "[<matplotlib.lines.Line2D at 0x2c2f2fcc2b0>]"
      ]
     },
     "execution_count": 14,
     "metadata": {},
     "output_type": "execute_result"
    },
    {
     "data": {
      "image/png": "[encoded data removed]",
      "text/plain": [
       "<Figure size 432x288 with 1 Axes>"
      ]
     },
     "metadata": {
      "needs_background": "light"
     },
     "output_type": "display_data"
    }
   ],
   "source": [
    "learner = GDLearner(features=features, labels=labels, weights=weights.copy(), \n",
    "                    learning_rate=0.01, epochs=1000)\n",
    "learner.train()\n",
    "print('Gradient descent learner')\n",
    "print('Final weights : ', learner.weights.T)\n",
    "print('Ideal weights : ', log_reg.intercept_, log_reg.coef_) \n",
    "plt.plot(learner.cost_history)"
   ]
  },
  {
   "cell_type": "code",
   "execution_count": 15,
   "metadata": {},
   "outputs": [
    {
     "name": "stdout",
     "output_type": "stream",
     "text": [
      "Init weights :  [[ 0.81676304  1.23981919  1.38182212 -0.27366588  0.34856358]]\n",
      "Nesterov Momentum Learner\n",
      "Final weights :  [[ 0.15442071 -0.29595937 -0.93983268  2.68329065  3.51920021]]\n",
      "Ideal weights :  [-0.00414641] [[-0.25860988 -0.5521781   2.14482214  2.16024848]]\n"
     ]
    },
    {
     "data": {
      "text/plain": [
       "[<matplotlib.lines.Line2D at 0x2c2f30709e8>]"
      ]
     },
     "execution_count": 15,
     "metadata": {},
     "output_type": "execute_result"
    },
    {
     "data": {
      "image/png": "[encoded data removed]",
      "text/plain": [
       "<Figure size 432x288 with 1 Axes>"
      ]
     },
     "metadata": {
      "needs_background": "light"
     },
     "output_type": "display_data"
    }
   ],
   "source": [
    "learner = NesterovMomentumLearner(features=features, labels=labels, weights=weights.copy(), \n",
    "                                  learning_rate=0.01, epochs=1000, gamma=0.9)\n",
    "learner.train()\n",
    "print('Nesterov Momentum Learner')\n",
    "print('Final weights : ', learner.weights.T)\n",
    "print('Ideal weights : ', log_reg.intercept_, log_reg.coef_) \n",
    "plt.plot(learner.cost_history)"
   ]
  },
  {
   "cell_type": "code",
   "execution_count": 16,
   "metadata": {},
   "outputs": [
    {
     "name": "stdout",
     "output_type": "stream",
     "text": [
      "Init weights :  [[ 0.81676304  1.23981919  1.38182212 -0.27366588  0.34856358]]\n",
      "RMSProp Learner\n",
      "Final weights :  [[-0.32165692 -1.60623071 -2.15992886  7.56878271  7.55855664]]\n",
      "Ideal weights :  [-0.00414641] [[-0.25860988 -0.5521781   2.14482214  2.16024848]]\n"
     ]
    },
    {
     "data": {
      "text/plain": [
       "[<matplotlib.lines.Line2D at 0x2c2f30d5eb8>]"
      ]
     },
     "execution_count": 16,
     "metadata": {},
     "output_type": "execute_result"
    },
    {
     "data": {
      "image/png": "[encoded data removed]",
      "text/plain": [
       "<Figure size 432x288 with 1 Axes>"
      ]
     },
     "metadata": {
      "needs_background": "light"
     },
     "output_type": "display_data"
    }
   ],
   "source": [
    "learner = RMSPropLearner(features=features, labels=labels, weights=weights.copy(), \n",
    "                         learning_rate=0.01, epochs=1000, gamma=0.9)\n",
    "learner.train()\n",
    "print('RMSProp Learner')\n",
    "print('Final weights : ', learner.weights.T)\n",
    "print('Ideal weights : ', log_reg.intercept_, log_reg.coef_) \n",
    "plt.plot(learner.cost_history)"
   ]
  },
  {
   "cell_type": "markdown",
   "metadata": {},
   "source": [
    "Из приведенных графиков видно, что на одном и том же числе эпох (1000) и скорости обучения (0.01) сходимость у алгоритмов разная"
   ]
  },
  {
   "cell_type": "code",
   "execution_count": null,
   "metadata": {},
   "outputs": [],
   "source": []
  }
 ],
 "metadata": {
  "kernelspec": {
   "display_name": "Python 3",
   "language": "python",
   "name": "python3"
  },
  "language_info": {
   "codemirror_mode": {
    "name": "ipython",
    "version": 3
   },
   "file_extension": ".py",
   "mimetype": "text/x-python",
   "name": "python",
   "nbconvert_exporter": "python",
   "pygments_lexer": "ipython3",
   "version": "3.7.3"
  }
 },
 "nbformat": 4,
 "nbformat_minor": 2
}
