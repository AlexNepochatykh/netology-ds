{
 "cells": [
  {
   "cell_type": "markdown",
   "metadata": {},
   "source": [
    "Дана статистика пользователей adult.csv.  \n",
    "Получите значения AUC для различных моделей и их параметров."
   ]
  },
  {
   "cell_type": "code",
   "execution_count": 1,
   "metadata": {},
   "outputs": [],
   "source": [
    "import pandas as pd\n",
    "import numpy as np\n",
    "import seaborn as sns\n",
    "import matplotlib.pyplot as plt\n",
    "%matplotlib inline\n",
    "\n",
    "from sklearn.linear_model import LogisticRegression\n",
    "from sklearn.ensemble import RandomForestClassifier, GradientBoostingClassifier\n",
    "from sklearn.svm import SVC\n",
    "from sklearn.neighbors import KNeighborsClassifier\n",
    "from sklearn.preprocessing import StandardScaler\n",
    "from sklearn.model_selection import train_test_split, GridSearchCV\n",
    "from sklearn.metrics import classification_report, accuracy_score, roc_auc_score\n",
    "\n",
    "import time \n",
    "\n",
    "import warnings\n",
    "warnings.filterwarnings('ignore')"
   ]
  },
  {
   "cell_type": "code",
   "execution_count": 2,
   "metadata": {},
   "outputs": [],
   "source": [
    "df = pd.read_csv('adult.csv')"
   ]
  },
  {
   "cell_type": "code",
   "execution_count": 3,
   "metadata": {},
   "outputs": [
    {
     "data": {
      "text/html": [
       "<div>\n",
       "<style scoped>\n",
       "    .dataframe tbody tr th:only-of-type {\n",
       "        vertical-align: middle;\n",
       "    }\n",
       "\n",
       "    .dataframe tbody tr th {\n",
       "        vertical-align: top;\n",
       "    }\n",
       "\n",
       "    .dataframe thead th {\n",
       "        text-align: right;\n",
       "    }\n",
       "</style>\n",
       "<table border=\"1\" class=\"dataframe\">\n",
       "  <thead>\n",
       "    <tr style=\"text-align: right;\">\n",
       "      <th></th>\n",
       "      <th>age</th>\n",
       "      <th>workclass</th>\n",
       "      <th>fnlwgt</th>\n",
       "      <th>education</th>\n",
       "      <th>educational-num</th>\n",
       "      <th>marital-status</th>\n",
       "      <th>occupation</th>\n",
       "      <th>relationship</th>\n",
       "      <th>race</th>\n",
       "      <th>gender</th>\n",
       "      <th>capital-gain</th>\n",
       "      <th>capital-loss</th>\n",
       "      <th>hours-per-week</th>\n",
       "      <th>native-country</th>\n",
       "      <th>income</th>\n",
       "    </tr>\n",
       "  </thead>\n",
       "  <tbody>\n",
       "    <tr>\n",
       "      <th>0</th>\n",
       "      <td>25</td>\n",
       "      <td>Private</td>\n",
       "      <td>226802</td>\n",
       "      <td>11th</td>\n",
       "      <td>7</td>\n",
       "      <td>Never-married</td>\n",
       "      <td>Machine-op-inspct</td>\n",
       "      <td>Own-child</td>\n",
       "      <td>Black</td>\n",
       "      <td>Male</td>\n",
       "      <td>0</td>\n",
       "      <td>0</td>\n",
       "      <td>40</td>\n",
       "      <td>United-States</td>\n",
       "      <td>&lt;=50K</td>\n",
       "    </tr>\n",
       "    <tr>\n",
       "      <th>1</th>\n",
       "      <td>38</td>\n",
       "      <td>Private</td>\n",
       "      <td>89814</td>\n",
       "      <td>HS-grad</td>\n",
       "      <td>9</td>\n",
       "      <td>Married-civ-spouse</td>\n",
       "      <td>Farming-fishing</td>\n",
       "      <td>Husband</td>\n",
       "      <td>White</td>\n",
       "      <td>Male</td>\n",
       "      <td>0</td>\n",
       "      <td>0</td>\n",
       "      <td>50</td>\n",
       "      <td>United-States</td>\n",
       "      <td>&lt;=50K</td>\n",
       "    </tr>\n",
       "    <tr>\n",
       "      <th>2</th>\n",
       "      <td>28</td>\n",
       "      <td>Local-gov</td>\n",
       "      <td>336951</td>\n",
       "      <td>Assoc-acdm</td>\n",
       "      <td>12</td>\n",
       "      <td>Married-civ-spouse</td>\n",
       "      <td>Protective-serv</td>\n",
       "      <td>Husband</td>\n",
       "      <td>White</td>\n",
       "      <td>Male</td>\n",
       "      <td>0</td>\n",
       "      <td>0</td>\n",
       "      <td>40</td>\n",
       "      <td>United-States</td>\n",
       "      <td>&gt;50K</td>\n",
       "    </tr>\n",
       "    <tr>\n",
       "      <th>3</th>\n",
       "      <td>44</td>\n",
       "      <td>Private</td>\n",
       "      <td>160323</td>\n",
       "      <td>Some-college</td>\n",
       "      <td>10</td>\n",
       "      <td>Married-civ-spouse</td>\n",
       "      <td>Machine-op-inspct</td>\n",
       "      <td>Husband</td>\n",
       "      <td>Black</td>\n",
       "      <td>Male</td>\n",
       "      <td>7688</td>\n",
       "      <td>0</td>\n",
       "      <td>40</td>\n",
       "      <td>United-States</td>\n",
       "      <td>&gt;50K</td>\n",
       "    </tr>\n",
       "    <tr>\n",
       "      <th>4</th>\n",
       "      <td>18</td>\n",
       "      <td>?</td>\n",
       "      <td>103497</td>\n",
       "      <td>Some-college</td>\n",
       "      <td>10</td>\n",
       "      <td>Never-married</td>\n",
       "      <td>?</td>\n",
       "      <td>Own-child</td>\n",
       "      <td>White</td>\n",
       "      <td>Female</td>\n",
       "      <td>0</td>\n",
       "      <td>0</td>\n",
       "      <td>30</td>\n",
       "      <td>United-States</td>\n",
       "      <td>&lt;=50K</td>\n",
       "    </tr>\n",
       "  </tbody>\n",
       "</table>\n",
       "</div>"
      ],
      "text/plain": [
       "   age  workclass  fnlwgt     education  educational-num      marital-status  \\\n",
       "0   25    Private  226802          11th                7       Never-married   \n",
       "1   38    Private   89814       HS-grad                9  Married-civ-spouse   \n",
       "2   28  Local-gov  336951    Assoc-acdm               12  Married-civ-spouse   \n",
       "3   44    Private  160323  Some-college               10  Married-civ-spouse   \n",
       "4   18          ?  103497  Some-college               10       Never-married   \n",
       "\n",
       "          occupation relationship   race  gender  capital-gain  capital-loss  \\\n",
       "0  Machine-op-inspct    Own-child  Black    Male             0             0   \n",
       "1    Farming-fishing      Husband  White    Male             0             0   \n",
       "2    Protective-serv      Husband  White    Male             0             0   \n",
       "3  Machine-op-inspct      Husband  Black    Male          7688             0   \n",
       "4                  ?    Own-child  White  Female             0             0   \n",
       "\n",
       "   hours-per-week native-country income  \n",
       "0              40  United-States  <=50K  \n",
       "1              50  United-States  <=50K  \n",
       "2              40  United-States   >50K  \n",
       "3              40  United-States   >50K  \n",
       "4              30  United-States  <=50K  "
      ]
     },
     "execution_count": 3,
     "metadata": {},
     "output_type": "execute_result"
    }
   ],
   "source": [
    "df.head()"
   ]
  },
  {
   "cell_type": "code",
   "execution_count": 4,
   "metadata": {},
   "outputs": [
    {
     "name": "stdout",
     "output_type": "stream",
     "text": [
      "<class 'pandas.core.frame.DataFrame'>\n",
      "RangeIndex: 48842 entries, 0 to 48841\n",
      "Data columns (total 15 columns):\n",
      "age                48842 non-null int64\n",
      "workclass          48842 non-null object\n",
      "fnlwgt             48842 non-null int64\n",
      "education          48842 non-null object\n",
      "educational-num    48842 non-null int64\n",
      "marital-status     48842 non-null object\n",
      "occupation         48842 non-null object\n",
      "relationship       48842 non-null object\n",
      "race               48842 non-null object\n",
      "gender             48842 non-null object\n",
      "capital-gain       48842 non-null int64\n",
      "capital-loss       48842 non-null int64\n",
      "hours-per-week     48842 non-null int64\n",
      "native-country     48842 non-null object\n",
      "income             48842 non-null object\n",
      "dtypes: int64(6), object(9)\n",
      "memory usage: 5.6+ MB\n"
     ]
    }
   ],
   "source": [
    "df.info()"
   ]
  },
  {
   "cell_type": "code",
   "execution_count": 5,
   "metadata": {},
   "outputs": [],
   "source": [
    "def make_features_cat(df, cat_features):\n",
    "    for each in cat_features:\n",
    "        dummies = pd.get_dummies(df[each], prefix=each, drop_first=False)\n",
    "        df = pd.concat([df, dummies], axis=1)\n",
    "    return df"
   ]
  },
  {
   "cell_type": "markdown",
   "metadata": {},
   "source": [
    "Значения по стране рождения сильно скошены в сторону USA, поэтому просто введем флаг is_from_usa "
   ]
  },
  {
   "cell_type": "code",
   "execution_count": 6,
   "metadata": {},
   "outputs": [
    {
     "data": {
      "text/plain": [
       "1    0.897424\n",
       "0    0.102576\n",
       "Name: is_from_usa, dtype: float64"
      ]
     },
     "execution_count": 6,
     "metadata": {},
     "output_type": "execute_result"
    }
   ],
   "source": [
    "df['is_from_usa'] = df.apply(lambda x : 1 if x['native-country'] == 'United-States' else 0, axis=1)\n",
    "df = df.drop(labels='native-country', axis=1)\n",
    "df['is_from_usa'].value_counts(normalize=True)"
   ]
  },
  {
   "cell_type": "code",
   "execution_count": 7,
   "metadata": {},
   "outputs": [
    {
     "data": {
      "text/plain": [
       "0    37155\n",
       "1    11687\n",
       "Name: income, dtype: int64"
      ]
     },
     "execution_count": 7,
     "metadata": {},
     "output_type": "execute_result"
    }
   ],
   "source": [
    "df.income = df.income.map({'<=50K' : 0, '>50K' : 1})\n",
    "df.income.value_counts()"
   ]
  },
  {
   "cell_type": "code",
   "execution_count": 8,
   "metadata": {},
   "outputs": [
    {
     "data": {
      "text/plain": [
       "1    32650\n",
       "0    16192\n",
       "Name: is_male, dtype: int64"
      ]
     },
     "execution_count": 8,
     "metadata": {},
     "output_type": "execute_result"
    }
   ],
   "source": [
    "df['is_male'] = df.gender.map({'Female' : 0, 'Male' : 1})\n",
    "df = df.drop(labels='gender', axis=1)\n",
    "df.is_male.value_counts()"
   ]
  },
  {
   "cell_type": "markdown",
   "metadata": {},
   "source": [
    "У нас есть два близких признака: education и educational-num. Второй является по сути LabelEncoding для первого, поэтому уберем education"
   ]
  },
  {
   "cell_type": "code",
   "execution_count": 9,
   "metadata": {},
   "outputs": [],
   "source": [
    "df = df.drop(labels='education', axis=1)"
   ]
  },
  {
   "cell_type": "code",
   "execution_count": 10,
   "metadata": {},
   "outputs": [],
   "source": [
    "categorical_features = ['workclass', 'marital-status', 'occupation', 'relationship', 'race']\n",
    "numeric_features =  ['fnlwgt', 'capital-gain', 'capital-loss']\n",
    "\n",
    "df = make_features_cat(df, categorical_features)\n",
    "df = df.drop(labels=categorical_features, axis=1)"
   ]
  },
  {
   "cell_type": "code",
   "execution_count": 11,
   "metadata": {},
   "outputs": [],
   "source": [
    "y = df.income\n",
    "df = df.drop('income', axis=1)\n",
    "X_train, X_test, y_train, y_test = train_test_split(df, y, test_size=0.2, random_state=42)"
   ]
  },
  {
   "cell_type": "code",
   "execution_count": 12,
   "metadata": {},
   "outputs": [
    {
     "data": {
      "text/html": [
       "<div>\n",
       "<style scoped>\n",
       "    .dataframe tbody tr th:only-of-type {\n",
       "        vertical-align: middle;\n",
       "    }\n",
       "\n",
       "    .dataframe tbody tr th {\n",
       "        vertical-align: top;\n",
       "    }\n",
       "\n",
       "    .dataframe thead th {\n",
       "        text-align: right;\n",
       "    }\n",
       "</style>\n",
       "<table border=\"1\" class=\"dataframe\">\n",
       "  <thead>\n",
       "    <tr style=\"text-align: right;\">\n",
       "      <th></th>\n",
       "      <th>age</th>\n",
       "      <th>fnlwgt</th>\n",
       "      <th>educational-num</th>\n",
       "      <th>capital-gain</th>\n",
       "      <th>capital-loss</th>\n",
       "      <th>hours-per-week</th>\n",
       "      <th>is_from_usa</th>\n",
       "      <th>is_male</th>\n",
       "      <th>workclass_?</th>\n",
       "      <th>workclass_Federal-gov</th>\n",
       "      <th>...</th>\n",
       "      <th>relationship_Not-in-family</th>\n",
       "      <th>relationship_Other-relative</th>\n",
       "      <th>relationship_Own-child</th>\n",
       "      <th>relationship_Unmarried</th>\n",
       "      <th>relationship_Wife</th>\n",
       "      <th>race_Amer-Indian-Eskimo</th>\n",
       "      <th>race_Asian-Pac-Islander</th>\n",
       "      <th>race_Black</th>\n",
       "      <th>race_Other</th>\n",
       "      <th>race_White</th>\n",
       "    </tr>\n",
       "  </thead>\n",
       "  <tbody>\n",
       "    <tr>\n",
       "      <th>0</th>\n",
       "      <td>0.246123</td>\n",
       "      <td>-0.421839</td>\n",
       "      <td>-0.029836</td>\n",
       "      <td>-0.144456</td>\n",
       "      <td>-0.219726</td>\n",
       "      <td>-0.034370</td>\n",
       "      <td>0.337333</td>\n",
       "      <td>0.703432</td>\n",
       "      <td>-0.248005</td>\n",
       "      <td>-0.173749</td>\n",
       "      <td>...</td>\n",
       "      <td>-0.587862</td>\n",
       "      <td>-0.177543</td>\n",
       "      <td>-0.428276</td>\n",
       "      <td>-0.341273</td>\n",
       "      <td>-0.222493</td>\n",
       "      <td>-0.098837</td>\n",
       "      <td>-0.180512</td>\n",
       "      <td>-0.321871</td>\n",
       "      <td>-0.09087</td>\n",
       "      <td>0.408979</td>\n",
       "    </tr>\n",
       "    <tr>\n",
       "      <th>1</th>\n",
       "      <td>0.974794</td>\n",
       "      <td>-0.138604</td>\n",
       "      <td>-1.585248</td>\n",
       "      <td>-0.144456</td>\n",
       "      <td>-0.219726</td>\n",
       "      <td>-0.435727</td>\n",
       "      <td>0.337333</td>\n",
       "      <td>0.703432</td>\n",
       "      <td>-0.248005</td>\n",
       "      <td>-0.173749</td>\n",
       "      <td>...</td>\n",
       "      <td>-0.587862</td>\n",
       "      <td>-0.177543</td>\n",
       "      <td>-0.428276</td>\n",
       "      <td>-0.341273</td>\n",
       "      <td>-0.222493</td>\n",
       "      <td>-0.098837</td>\n",
       "      <td>-0.180512</td>\n",
       "      <td>-0.321871</td>\n",
       "      <td>-0.09087</td>\n",
       "      <td>0.408979</td>\n",
       "    </tr>\n",
       "    <tr>\n",
       "      <th>2</th>\n",
       "      <td>-0.336813</td>\n",
       "      <td>-0.161041</td>\n",
       "      <td>-0.418689</td>\n",
       "      <td>-0.144456</td>\n",
       "      <td>-0.219726</td>\n",
       "      <td>-0.034370</td>\n",
       "      <td>0.337333</td>\n",
       "      <td>0.703432</td>\n",
       "      <td>-0.248005</td>\n",
       "      <td>-0.173749</td>\n",
       "      <td>...</td>\n",
       "      <td>-0.587862</td>\n",
       "      <td>-0.177543</td>\n",
       "      <td>-0.428276</td>\n",
       "      <td>-0.341273</td>\n",
       "      <td>-0.222493</td>\n",
       "      <td>-0.098837</td>\n",
       "      <td>-0.180512</td>\n",
       "      <td>-0.321871</td>\n",
       "      <td>-0.09087</td>\n",
       "      <td>0.408979</td>\n",
       "    </tr>\n",
       "    <tr>\n",
       "      <th>3</th>\n",
       "      <td>-0.774016</td>\n",
       "      <td>-0.605742</td>\n",
       "      <td>-0.418689</td>\n",
       "      <td>-0.144456</td>\n",
       "      <td>-0.219726</td>\n",
       "      <td>-0.034370</td>\n",
       "      <td>0.337333</td>\n",
       "      <td>-1.421602</td>\n",
       "      <td>-0.248005</td>\n",
       "      <td>-0.173749</td>\n",
       "      <td>...</td>\n",
       "      <td>1.701080</td>\n",
       "      <td>-0.177543</td>\n",
       "      <td>-0.428276</td>\n",
       "      <td>-0.341273</td>\n",
       "      <td>-0.222493</td>\n",
       "      <td>-0.098837</td>\n",
       "      <td>-0.180512</td>\n",
       "      <td>-0.321871</td>\n",
       "      <td>-0.09087</td>\n",
       "      <td>0.408979</td>\n",
       "    </tr>\n",
       "    <tr>\n",
       "      <th>4</th>\n",
       "      <td>0.537592</td>\n",
       "      <td>-1.529544</td>\n",
       "      <td>0.359017</td>\n",
       "      <td>-0.144456</td>\n",
       "      <td>-0.219726</td>\n",
       "      <td>0.768345</td>\n",
       "      <td>0.337333</td>\n",
       "      <td>0.703432</td>\n",
       "      <td>-0.248005</td>\n",
       "      <td>-0.173749</td>\n",
       "      <td>...</td>\n",
       "      <td>1.701080</td>\n",
       "      <td>-0.177543</td>\n",
       "      <td>-0.428276</td>\n",
       "      <td>-0.341273</td>\n",
       "      <td>-0.222493</td>\n",
       "      <td>-0.098837</td>\n",
       "      <td>-0.180512</td>\n",
       "      <td>-0.321871</td>\n",
       "      <td>-0.09087</td>\n",
       "      <td>0.408979</td>\n",
       "    </tr>\n",
       "  </tbody>\n",
       "</table>\n",
       "<p>5 rows × 50 columns</p>\n",
       "</div>"
      ],
      "text/plain": [
       "        age    fnlwgt  educational-num  capital-gain  capital-loss  \\\n",
       "0  0.246123 -0.421839        -0.029836     -0.144456     -0.219726   \n",
       "1  0.974794 -0.138604        -1.585248     -0.144456     -0.219726   \n",
       "2 -0.336813 -0.161041        -0.418689     -0.144456     -0.219726   \n",
       "3 -0.774016 -0.605742        -0.418689     -0.144456     -0.219726   \n",
       "4  0.537592 -1.529544         0.359017     -0.144456     -0.219726   \n",
       "\n",
       "   hours-per-week  is_from_usa   is_male  workclass_?  workclass_Federal-gov  \\\n",
       "0       -0.034370     0.337333  0.703432    -0.248005              -0.173749   \n",
       "1       -0.435727     0.337333  0.703432    -0.248005              -0.173749   \n",
       "2       -0.034370     0.337333  0.703432    -0.248005              -0.173749   \n",
       "3       -0.034370     0.337333 -1.421602    -0.248005              -0.173749   \n",
       "4        0.768345     0.337333  0.703432    -0.248005              -0.173749   \n",
       "\n",
       "   ...  relationship_Not-in-family  relationship_Other-relative  \\\n",
       "0  ...                   -0.587862                    -0.177543   \n",
       "1  ...                   -0.587862                    -0.177543   \n",
       "2  ...                   -0.587862                    -0.177543   \n",
       "3  ...                    1.701080                    -0.177543   \n",
       "4  ...                    1.701080                    -0.177543   \n",
       "\n",
       "   relationship_Own-child  relationship_Unmarried  relationship_Wife  \\\n",
       "0               -0.428276               -0.341273          -0.222493   \n",
       "1               -0.428276               -0.341273          -0.222493   \n",
       "2               -0.428276               -0.341273          -0.222493   \n",
       "3               -0.428276               -0.341273          -0.222493   \n",
       "4               -0.428276               -0.341273          -0.222493   \n",
       "\n",
       "   race_Amer-Indian-Eskimo  race_Asian-Pac-Islander  race_Black  race_Other  \\\n",
       "0                -0.098837                -0.180512   -0.321871    -0.09087   \n",
       "1                -0.098837                -0.180512   -0.321871    -0.09087   \n",
       "2                -0.098837                -0.180512   -0.321871    -0.09087   \n",
       "3                -0.098837                -0.180512   -0.321871    -0.09087   \n",
       "4                -0.098837                -0.180512   -0.321871    -0.09087   \n",
       "\n",
       "   race_White  \n",
       "0    0.408979  \n",
       "1    0.408979  \n",
       "2    0.408979  \n",
       "3    0.408979  \n",
       "4    0.408979  \n",
       "\n",
       "[5 rows x 50 columns]"
      ]
     },
     "execution_count": 12,
     "metadata": {},
     "output_type": "execute_result"
    }
   ],
   "source": [
    "scaler = StandardScaler()\n",
    "X_train = scaler.fit_transform(X_train)\n",
    "X_train = pd.DataFrame(X_train, columns=df.columns)\n",
    "\n",
    "X_test = scaler.transform(X_test)\n",
    "X_test = pd.DataFrame(X_test, columns=df.columns)\n",
    "\n",
    "X_train.head()"
   ]
  },
  {
   "cell_type": "markdown",
   "metadata": {},
   "source": [
    "Обучим модель в лоб и посмотрим на качество"
   ]
  },
  {
   "cell_type": "code",
   "execution_count": 13,
   "metadata": {},
   "outputs": [
    {
     "data": {
      "text/plain": [
       "0.8559729757395844"
      ]
     },
     "execution_count": 13,
     "metadata": {},
     "output_type": "execute_result"
    }
   ],
   "source": [
    "model = LogisticRegression(C = 0.1)\n",
    "model.fit(X_train, y_train)\n",
    "model.score(X_test, y_test)"
   ]
  },
  {
   "cell_type": "code",
   "execution_count": 14,
   "metadata": {},
   "outputs": [
    {
     "data": {
      "text/plain": [
       "0.8095003668043416"
      ]
     },
     "execution_count": 14,
     "metadata": {},
     "output_type": "execute_result"
    }
   ],
   "source": [
    "roc_auc_score(model.predict(X_test), y_test)"
   ]
  },
  {
   "cell_type": "markdown",
   "metadata": {},
   "source": [
    "Использование модели в лоб дало низкое качество. Теперь поиграемся с параметрами и моделями.  \n",
    "В качестве моделей возьмем логистическую регрессию, случайный лес, knn и gbm.  \n",
    "Проверять будем по метрике ROC AUC с использованием GridSearch и Cross Validation.  \n",
    "Тестовую выборку будем использовать в качестве валидационной."
   ]
  },
  {
   "cell_type": "markdown",
   "metadata": {},
   "source": [
    "#### Логистическая регрессия"
   ]
  },
  {
   "cell_type": "code",
   "execution_count": 15,
   "metadata": {},
   "outputs": [],
   "source": [
    "clf_logreg = LogisticRegression()\n",
    "logreg_params = {'C': [ 10 ** x for x in range(-2, 3, 1) ]\n",
    "                ,'penalty' : [ 'l1', 'l2' ]\n",
    "                }"
   ]
  },
  {
   "cell_type": "markdown",
   "metadata": {},
   "source": [
    "#### RandomForest"
   ]
  },
  {
   "cell_type": "code",
   "execution_count": 16,
   "metadata": {},
   "outputs": [],
   "source": [
    "clf_rf = RandomForestClassifier()\n",
    "rf_params = {'n_estimators': [ 30, 50, 100, 300 ]\n",
    "            ,'max_depth': [ 5, 10, 15]\n",
    "            }"
   ]
  },
  {
   "cell_type": "markdown",
   "metadata": {},
   "source": [
    "#### KNN"
   ]
  },
  {
   "cell_type": "code",
   "execution_count": 17,
   "metadata": {},
   "outputs": [],
   "source": [
    "clf_knn = KNeighborsClassifier()\n",
    "knn_params = { 'n_neighbors' : [ 20 ]\n",
    "             , 'weights' : ['uniform', 'distance']\n",
    "             }"
   ]
  },
  {
   "cell_type": "markdown",
   "metadata": {},
   "source": [
    "#### GBM"
   ]
  },
  {
   "cell_type": "code",
   "execution_count": 18,
   "metadata": {},
   "outputs": [],
   "source": [
    "clf_gbm = GradientBoostingClassifier()\n",
    "gbm_params = { 'n_estimators' : [150 , 200]\n",
    "              , 'loss' : ['deviance']\n",
    "              , 'max_depth' : [5, 7]\n",
    "             } "
   ]
  },
  {
   "cell_type": "markdown",
   "metadata": {},
   "source": [
    "Функция для расчета моделей"
   ]
  },
  {
   "cell_type": "code",
   "execution_count": 20,
   "metadata": {
    "scrolled": false
   },
   "outputs": [],
   "source": [
    "def calculate_models(models, cv=10, scoring='roc_auc'):\n",
    "    for model in models:\n",
    "        start = time.time()\n",
    "        print('-----------------------------------------------------------')\n",
    "        print('Model : {}'.format(model[0].__class__.__name__))\n",
    "        print('Parameters : {}'.format(model[1]))\n",
    "        gs = GridSearchCV( model[0], param_grid = model[1], cv=cv, scoring=scoring, n_jobs=-1 )\n",
    "        gs.fit(X_train, y_train)\n",
    "        print('Best params      : {}'.format(gs.best_params_))\n",
    "        print('Train score      : {}'.format(gs.best_score_))\n",
    "        print('Validation score : {}'.format(gs.score(X_test, y_test)))\n",
    "        print('Calculation time : {} sec'.format(time.time() - start))"
   ]
  },
  {
   "cell_type": "code",
   "execution_count": 21,
   "metadata": {},
   "outputs": [
    {
     "name": "stdout",
     "output_type": "stream",
     "text": [
      "-----------------------------------------------------------\n",
      "Model : LogisticRegression\n",
      "Parameters : {'C': [0.01, 0.1, 1, 10, 100], 'penalty': ['l1', 'l2']}\n",
      "Best params      : {'C': 0.1, 'penalty': 'l1'}\n",
      "Train score      : 0.9053107091402491\n",
      "Validation score : 0.9097917838068864\n",
      "Calculation time : 26.740007877349854 sec\n",
      "-----------------------------------------------------------\n",
      "Model : RandomForestClassifier\n",
      "Parameters : {'n_estimators': [30, 50, 100, 300], 'max_depth': [5, 10, 15]}\n",
      "Best params      : {'max_depth': 15, 'n_estimators': 100}\n",
      "Train score      : 0.917470872232082\n",
      "Validation score : 0.9229983692329788\n",
      "Calculation time : 41.2983615398407 sec\n",
      "-----------------------------------------------------------\n",
      "Model : KNeighborsClassifier\n",
      "Parameters : {'n_neighbors': [20], 'weights': ['uniform', 'distance']}\n",
      "Best params      : {'n_neighbors': 20, 'weights': 'distance'}\n",
      "Train score      : 0.8763804482012499\n",
      "Validation score : 0.8835468861575146\n",
      "Calculation time : 240.52824187278748 sec\n",
      "-----------------------------------------------------------\n",
      "Model : GradientBoostingClassifier\n",
      "Parameters : {'n_estimators': [150, 200], 'loss': ['deviance'], 'max_depth': [5, 7]}\n",
      "Best params      : {'loss': 'deviance', 'max_depth': 5, 'n_estimators': 200}\n",
      "Train score      : 0.9268412681329953\n",
      "Validation score : 0.9322850998808309\n",
      "Calculation time : 133.43013525009155 sec\n"
     ]
    }
   ],
   "source": [
    "models = [ (clf_logreg, logreg_params)\n",
    "          ,(clf_rf, rf_params)\n",
    "          ,(clf_knn, knn_params)\n",
    "          ,(clf_gbm, gbm_params)\n",
    "         ]\n",
    "\n",
    "calculate_models(models=models, cv=3, scoring='roc_auc')"
   ]
  }
 ],
 "metadata": {
  "kernelspec": {
   "display_name": "Python 3",
   "language": "python",
   "name": "python3"
  },
  "language_info": {
   "codemirror_mode": {
    "name": "ipython",
    "version": 3
   },
   "file_extension": ".py",
   "mimetype": "text/x-python",
   "name": "python",
   "nbconvert_exporter": "python",
   "pygments_lexer": "ipython3",
   "version": "3.7.3"
  }
 },
 "nbformat": 4,
 "nbformat_minor": 2
}
