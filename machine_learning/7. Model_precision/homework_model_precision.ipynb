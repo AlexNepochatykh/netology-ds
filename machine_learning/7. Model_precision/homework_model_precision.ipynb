{
 "cells": [
  {
   "cell_type": "markdown",
   "metadata": {},
   "source": [
    "Дана статистика пользователей adult.csv.  \n",
    "Получите значения AUC для различных моделей и их параметров."
   ]
  },
  {
   "cell_type": "code",
   "execution_count": null,
   "metadata": {},
   "outputs": [],
   "source": [
    "import pandas as pd\n",
    "import numpy as np\n",
    "import seaborn as sns\n",
    "import matplotlib.pyplot as plt\n",
    "%matplotlib inline\n",
    "\n",
    "from sklearn.linear_model import LogisticRegression\n",
    "from sklearn.ensemble import RandomForestClassifier\n",
    "from sklearn.svm import SVC\n",
    "from sklearn.preprocessing import StandardScaler\n",
    "from sklearn.model_selection import train_test_split, GridSearchCV\n",
    "from sklearn.metrics import classification_report, accuracy_score, roc_auc_score\n",
    "\n",
    "import warnings\n",
    "warnings.filterwarnings('ignore')"
   ]
  },
  {
   "cell_type": "code",
   "execution_count": null,
   "metadata": {},
   "outputs": [],
   "source": [
    "df = pd.read_csv('adult.csv')"
   ]
  },
  {
   "cell_type": "code",
   "execution_count": null,
   "metadata": {},
   "outputs": [],
   "source": [
    "df.head()"
   ]
  },
  {
   "cell_type": "code",
   "execution_count": null,
   "metadata": {},
   "outputs": [],
   "source": [
    "df.info()"
   ]
  },
  {
   "cell_type": "code",
   "execution_count": null,
   "metadata": {},
   "outputs": [],
   "source": [
    "def make_features_cat(df, cat_features):\n",
    "    for each in cat_features:\n",
    "        dummies = pd.get_dummies(df[each], prefix=each, drop_first=False)\n",
    "        df = pd.concat([df, dummies], axis=1)\n",
    "    return df"
   ]
  },
  {
   "cell_type": "markdown",
   "metadata": {},
   "source": [
    "Значения по стране рождения сильно скошены в сторону USA, поэтому просто введем флаг is_from_usa "
   ]
  },
  {
   "cell_type": "code",
   "execution_count": null,
   "metadata": {},
   "outputs": [],
   "source": [
    "df['is_from_usa'] = df.apply(lambda x : 1 if x['native-country'] == 'United-States' else 0, axis=1)\n",
    "df = df.drop(labels='native-country', axis=1)\n",
    "df['is_from_usa'].value_counts(normalize=True)"
   ]
  },
  {
   "cell_type": "code",
   "execution_count": null,
   "metadata": {},
   "outputs": [],
   "source": [
    "df.income = df.income.map({'<=50K' : 0, '>50K' : 1})\n",
    "df.income.value_counts()"
   ]
  },
  {
   "cell_type": "code",
   "execution_count": null,
   "metadata": {},
   "outputs": [],
   "source": [
    "df['is_male'] = df.gender.map({'Female' : 0, 'Male' : 1})\n",
    "df = df.drop(labels='gender', axis=1)\n",
    "df.is_male.value_counts()"
   ]
  },
  {
   "cell_type": "markdown",
   "metadata": {},
   "source": [
    "У нас есть два близких признака: education и educational-num. Второй является по сути LabelEncoding для первого, поэтому уберем education"
   ]
  },
  {
   "cell_type": "code",
   "execution_count": null,
   "metadata": {},
   "outputs": [],
   "source": [
    "df = df.drop(labels='education', axis=1)"
   ]
  },
  {
   "cell_type": "code",
   "execution_count": null,
   "metadata": {},
   "outputs": [],
   "source": [
    "categorical_features = ['workclass', 'marital-status', 'occupation', 'relationship', 'race']\n",
    "numeric_features =  ['fnlwgt', 'capital-gain', 'capital-loss']\n",
    "\n",
    "df = make_features_cat(df, categorical_features)\n",
    "df = df.drop(labels=categorical_features, axis=1)"
   ]
  },
  {
   "cell_type": "code",
   "execution_count": null,
   "metadata": {},
   "outputs": [],
   "source": [
    "y = df.income\n",
    "df = df.drop('income', axis=1)\n",
    "X_train, X_test, y_train, y_test = train_test_split(df, y, test_size=0.2, random_state=42)"
   ]
  },
  {
   "cell_type": "code",
   "execution_count": null,
   "metadata": {},
   "outputs": [],
   "source": [
    "scaler = StandardScaler()\n",
    "X_train = scaler.fit_transform(X_train)\n",
    "X_train = pd.DataFrame(X_train, columns=df.columns)\n",
    "\n",
    "X_test = scaler.transform(X_test)\n",
    "X_test = pd.DataFrame(X_test, columns=df.columns)\n",
    "\n",
    "X_train.head()"
   ]
  },
  {
   "cell_type": "markdown",
   "metadata": {},
   "source": [
    "Обучим модель в лоб и посмотрим на качество"
   ]
  },
  {
   "cell_type": "code",
   "execution_count": null,
   "metadata": {},
   "outputs": [],
   "source": [
    "model = LogisticRegression(C = 0.1)\n",
    "model.fit(X_train, y_train)\n",
    "model.score(X_test, y_test)"
   ]
  },
  {
   "cell_type": "code",
   "execution_count": null,
   "metadata": {},
   "outputs": [],
   "source": [
    "roc_auc_score(model.predict(X_test), y_test)"
   ]
  },
  {
   "cell_type": "markdown",
   "metadata": {},
   "source": [
    "Использование модели в лоб дало низкое качество. Теперь поиграемся с параметрами и моделями.  \n",
    "В качестве моделей возьмем логистическую регрессию, случайный лес и SVM.  \n",
    "Проверять будем по метрике ROC AUC с использованием GridSearch и Cross Validation.  \n",
    "Тестовую выборку будем использовать в качестве валидационной."
   ]
  },
  {
   "cell_type": "markdown",
   "metadata": {},
   "source": [
    "#### Логистическая регрессия"
   ]
  },
  {
   "cell_type": "code",
   "execution_count": 95,
   "metadata": {},
   "outputs": [],
   "source": [
    "clf_logreg = LogisticRegression()\n",
    "logreg_params = {'C': [ 10 ** x for x in range(-2, 3, 1) ]\n",
    "                ,'penalty' : [ 'l1', 'l2' ]\n",
    "                }"
   ]
  },
  {
   "cell_type": "markdown",
   "metadata": {},
   "source": [
    "#### RandomForest"
   ]
  },
  {
   "cell_type": "code",
   "execution_count": 134,
   "metadata": {},
   "outputs": [],
   "source": [
    "clf_rf = RandomForestClassifier()\n",
    "rf_params = {'n_estimators': [ 30, 50, 100, 300 ]\n",
    "            ,'max_depth': [ 5, 10, 15]\n",
    "            }"
   ]
  },
  {
   "cell_type": "markdown",
   "metadata": {},
   "source": [
    "#### SVM"
   ]
  },
  {
   "cell_type": "code",
   "execution_count": 138,
   "metadata": {},
   "outputs": [],
   "source": [
    "clf_svm = SVC()\n",
    "svm_params = { 'C' :  [0.1 ] #, 1, 10] \n",
    "              ,'kernel' : ['linear'] #, 'poly', 'rbf', 'sigmoid', 'precomputed'] \n",
    "              ,'gamma' : [1 ] #, 2, 3, 'auto']\n",
    "             }"
   ]
  },
  {
   "cell_type": "markdown",
   "metadata": {},
   "source": [
    "Функция для расчета моделей"
   ]
  },
  {
   "cell_type": "code",
   "execution_count": 143,
   "metadata": {
    "scrolled": false
   },
   "outputs": [],
   "source": [
    "def calculate_models(models, cv=10, scoring='roc_auc'):\n",
    "    for model in models:\n",
    "        print('-----------------------------------------------------------')\n",
    "        print('Model : {}'.format(model[0].__class__.__name__))\n",
    "        print('Parameters : {}'.format(model[1]))\n",
    "        gs = GridSearchCV( model[0], param_grid = model[1], cv=cv, scoring=scoring, n_jobs=-1 )\n",
    "        gs.fit(X_train, y_train)\n",
    "        print('Best params      : {}'.format(gs.best_params_))\n",
    "        print('Train score      : {}'.format(gs.best_score_))\n",
    "        print('Validation score : {}'.format(gs.score(X_test, y_test)))"
   ]
  },
  {
   "cell_type": "code",
   "execution_count": null,
   "metadata": {},
   "outputs": [
    {
     "name": "stdout",
     "output_type": "stream",
     "text": [
      "-----------------------------------------------------------\n",
      "Model : SVC\n",
      "Parameters : {'C': [0.1, 1, 10], 'kernel': ['linear', 'poly', 'rbf', 'sigmoid', 'precomputed'], 'gamma': [1, 2, 3, 'auto']}\n"
     ]
    }
   ],
   "source": [
    "models = [ #(clf_logreg, logreg_params)\n",
    "          #(clf_rf, rf_params)\n",
    "        (clf_svm, svm_params)\n",
    "         ]\n",
    "\n",
    "calculate_models(models=models, cv=10, scoring='roc_auc')"
   ]
  },
  {
   "cell_type": "code",
   "execution_count": null,
   "metadata": {},
   "outputs": [],
   "source": []
  },
  {
   "cell_type": "code",
   "execution_count": null,
   "metadata": {},
   "outputs": [],
   "source": []
  }
 ],
 "metadata": {
  "kernelspec": {
   "display_name": "Python 3",
   "language": "python",
   "name": "python3"
  },
  "language_info": {
   "codemirror_mode": {
    "name": "ipython",
    "version": 3
   },
   "file_extension": ".py",
   "mimetype": "text/x-python",
   "name": "python",
   "nbconvert_exporter": "python",
   "pygments_lexer": "ipython3",
   "version": "3.7.3"
  }
 },
 "nbformat": 4,
 "nbformat_minor": 2
}
