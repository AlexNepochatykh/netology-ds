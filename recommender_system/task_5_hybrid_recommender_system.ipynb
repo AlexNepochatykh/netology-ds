{
 "cells": [
  {
   "cell_type": "markdown",
   "metadata": {},
   "source": [
    "### Задание \n",
    "На датасете ml-latest написать свою гибридную рекомендательную систему\n",
    "\n",
    "В качестве своей рекомендательной системы сделаем следующее:  \n",
    "Для выбранного пользователя возьмем 5 просмотренных им фильмов с наивысшей оценкой.   \n",
    "С помощью коллаборативной фильтрации отберем топ 15 фильмов.  \n",
    "Далее отранжируем их посредством SVD и выдадим в качестве рекомендаций.   "
   ]
  },
  {
   "cell_type": "code",
   "execution_count": 1,
   "metadata": {},
   "outputs": [],
   "source": [
    "from surprise import SVD, SVDpp, Dataset, accuracy, Reader\n",
    "from surprise.model_selection import train_test_split\n",
    "import matplotlib.pyplot as plt\n",
    "from tqdm import tqdm_notebook\n",
    "from scipy.spatial.distance import cosine, euclidean, hamming\n",
    "import pandas as pd\n",
    "import numpy as np"
   ]
  },
  {
   "cell_type": "markdown",
   "metadata": {},
   "source": [
    "### Формируем датасет"
   ]
  },
  {
   "cell_type": "code",
   "execution_count": 2,
   "metadata": {},
   "outputs": [],
   "source": [
    "movies = pd.read_csv('data/movies.csv')\n",
    "ratings = pd.read_csv('data/ratings.csv')"
   ]
  },
  {
   "cell_type": "code",
   "execution_count": 3,
   "metadata": {},
   "outputs": [],
   "source": [
    "movies_with_ratings = movies.join(ratings.set_index('movieId'), on='movieId').reset_index(drop=True)\n",
    "movies_with_ratings.dropna(inplace=True)"
   ]
  },
  {
   "cell_type": "code",
   "execution_count": 4,
   "metadata": {},
   "outputs": [
    {
     "data": {
      "text/html": [
       "<div>\n",
       "<style scoped>\n",
       "    .dataframe tbody tr th:only-of-type {\n",
       "        vertical-align: middle;\n",
       "    }\n",
       "\n",
       "    .dataframe tbody tr th {\n",
       "        vertical-align: top;\n",
       "    }\n",
       "\n",
       "    .dataframe thead th {\n",
       "        text-align: right;\n",
       "    }\n",
       "</style>\n",
       "<table border=\"1\" class=\"dataframe\">\n",
       "  <thead>\n",
       "    <tr style=\"text-align: right;\">\n",
       "      <th></th>\n",
       "      <th>movieId</th>\n",
       "      <th>title</th>\n",
       "      <th>genres</th>\n",
       "      <th>userId</th>\n",
       "      <th>rating</th>\n",
       "      <th>timestamp</th>\n",
       "    </tr>\n",
       "  </thead>\n",
       "  <tbody>\n",
       "    <tr>\n",
       "      <th>0</th>\n",
       "      <td>1</td>\n",
       "      <td>Toy Story (1995)</td>\n",
       "      <td>Adventure|Animation|Children|Comedy|Fantasy</td>\n",
       "      <td>1.0</td>\n",
       "      <td>4.0</td>\n",
       "      <td>9.649827e+08</td>\n",
       "    </tr>\n",
       "    <tr>\n",
       "      <th>1</th>\n",
       "      <td>1</td>\n",
       "      <td>Toy Story (1995)</td>\n",
       "      <td>Adventure|Animation|Children|Comedy|Fantasy</td>\n",
       "      <td>5.0</td>\n",
       "      <td>4.0</td>\n",
       "      <td>8.474350e+08</td>\n",
       "    </tr>\n",
       "    <tr>\n",
       "      <th>2</th>\n",
       "      <td>1</td>\n",
       "      <td>Toy Story (1995)</td>\n",
       "      <td>Adventure|Animation|Children|Comedy|Fantasy</td>\n",
       "      <td>7.0</td>\n",
       "      <td>4.5</td>\n",
       "      <td>1.106636e+09</td>\n",
       "    </tr>\n",
       "    <tr>\n",
       "      <th>3</th>\n",
       "      <td>1</td>\n",
       "      <td>Toy Story (1995)</td>\n",
       "      <td>Adventure|Animation|Children|Comedy|Fantasy</td>\n",
       "      <td>15.0</td>\n",
       "      <td>2.5</td>\n",
       "      <td>1.510578e+09</td>\n",
       "    </tr>\n",
       "    <tr>\n",
       "      <th>4</th>\n",
       "      <td>1</td>\n",
       "      <td>Toy Story (1995)</td>\n",
       "      <td>Adventure|Animation|Children|Comedy|Fantasy</td>\n",
       "      <td>17.0</td>\n",
       "      <td>4.5</td>\n",
       "      <td>1.305696e+09</td>\n",
       "    </tr>\n",
       "  </tbody>\n",
       "</table>\n",
       "</div>"
      ],
      "text/plain": [
       "   movieId             title                                       genres  \\\n",
       "0        1  Toy Story (1995)  Adventure|Animation|Children|Comedy|Fantasy   \n",
       "1        1  Toy Story (1995)  Adventure|Animation|Children|Comedy|Fantasy   \n",
       "2        1  Toy Story (1995)  Adventure|Animation|Children|Comedy|Fantasy   \n",
       "3        1  Toy Story (1995)  Adventure|Animation|Children|Comedy|Fantasy   \n",
       "4        1  Toy Story (1995)  Adventure|Animation|Children|Comedy|Fantasy   \n",
       "\n",
       "   userId  rating     timestamp  \n",
       "0     1.0     4.0  9.649827e+08  \n",
       "1     5.0     4.0  8.474350e+08  \n",
       "2     7.0     4.5  1.106636e+09  \n",
       "3    15.0     2.5  1.510578e+09  \n",
       "4    17.0     4.5  1.305696e+09  "
      ]
     },
     "execution_count": 4,
     "metadata": {},
     "output_type": "execute_result"
    }
   ],
   "source": [
    "movies_with_ratings.head()"
   ]
  },
  {
   "cell_type": "code",
   "execution_count": 5,
   "metadata": {},
   "outputs": [],
   "source": [
    "dataset = pd.DataFrame({\n",
    "    'uid': movies_with_ratings.userId,\n",
    "    'iid': movies_with_ratings.title,\n",
    "    'rating': movies_with_ratings.rating\n",
    "})"
   ]
  },
  {
   "cell_type": "markdown",
   "metadata": {},
   "source": [
    "### Формируем вектор фильмов для коллаборативной фильтрации"
   ]
  },
  {
   "cell_type": "code",
   "execution_count": 6,
   "metadata": {},
   "outputs": [],
   "source": [
    "num_users = movies_with_ratings.userId.unique().shape[0]"
   ]
  },
  {
   "cell_type": "code",
   "execution_count": 7,
   "metadata": {},
   "outputs": [
    {
     "data": {
      "application/vnd.jupyter.widget-view+json": {
       "model_id": "93a0660507a441dbb1537fcbe5c86716",
       "version_major": 2,
       "version_minor": 0
      },
      "text/plain": [
       "HBox(children=(IntProgress(value=0, max=9719), HTML(value='')))"
      ]
     },
     "metadata": {},
     "output_type": "display_data"
    },
    {
     "name": "stdout",
     "output_type": "stream",
     "text": [
      "\n"
     ]
    }
   ],
   "source": [
    "movie_vector = {}\n",
    "\n",
    "for movie, group in tqdm_notebook(movies_with_ratings.groupby('title')):\n",
    "    movie_vector[movie] = np.zeros(num_users)\n",
    "    for i in range(len(group.userId.values)):\n",
    "        u = group.userId.values[i]\n",
    "        r = group.rating.values[i]\n",
    "        movie_vector[movie][int(u - 1)] = r"
   ]
  },
  {
   "cell_type": "code",
   "execution_count": 8,
   "metadata": {},
   "outputs": [
    {
     "name": "stdout",
     "output_type": "stream",
     "text": [
      "Результирующий вектор размером : [9719, 610]\n"
     ]
    }
   ],
   "source": [
    "print(f'Результирующий вектор размером : [{len(movie_vector)}, {len(movie_vector[movies.title[1]])}]') "
   ]
  },
  {
   "cell_type": "markdown",
   "metadata": {},
   "source": [
    "### Подготавливаем алгоритм для ранжирования"
   ]
  },
  {
   "cell_type": "code",
   "execution_count": 9,
   "metadata": {},
   "outputs": [],
   "source": [
    "RATING_MIN, RATING_MAX = dataset.rating.min(), dataset.rating.max()"
   ]
  },
  {
   "cell_type": "code",
   "execution_count": 10,
   "metadata": {},
   "outputs": [],
   "source": [
    "reader = Reader(rating_scale=(RATING_MIN, RATING_MAX))\n",
    "data = Dataset.load_from_df(dataset, reader)\n",
    "trainset, testset = train_test_split(data, test_size=.20, random_state=42)"
   ]
  },
  {
   "cell_type": "code",
   "execution_count": 11,
   "metadata": {},
   "outputs": [
    {
     "name": "stdout",
     "output_type": "stream",
     "text": [
      "RMSE: 0.8631\n"
     ]
    },
    {
     "data": {
      "text/plain": [
       "0.8631145258696366"
      ]
     },
     "execution_count": 11,
     "metadata": {},
     "output_type": "execute_result"
    }
   ],
   "source": [
    "algo = SVD(n_factors=100, n_epochs=100, lr_all=0.005, reg_all=0.2)\n",
    "algo.fit(trainset)\n",
    "test_pred = algo.test(testset)\n",
    "accuracy.rmse(test_pred, verbose=True)"
   ]
  },
  {
   "cell_type": "code",
   "execution_count": 12,
   "metadata": {},
   "outputs": [],
   "source": [
    "def get_top_user_films(movie_titles, distance_func=cosine, top_n=30):\n",
    "    assert movie_vector is not None, 'Initialize movie_vector!'\n",
    "    titles = []\n",
    "    distances = []\n",
    "\n",
    "    for movie_title in movie_titles:\n",
    "        for key in movie_vector.keys():\n",
    "            if key == movie_title:\n",
    "                continue\n",
    "            titles.append(key)\n",
    "            distances.append(distance_func(movie_vector[movie_title], movie_vector[key]))\n",
    "\n",
    "    best_indexes = np.argsort(distances)[:top_n]\n",
    "    best_movies = [(titles[i], distances[i]) for i in best_indexes]\n",
    "    return [i[0] for i in best_movies]"
   ]
  },
  {
   "cell_type": "code",
   "execution_count": 13,
   "metadata": {},
   "outputs": [
    {
     "data": {
      "text/plain": [
       "['Fight Club (1999)',\n",
       " 'Star Wars: Episode V - The Empire Strikes Back (1980)',\n",
       " 'Saving Private Ryan (1998)',\n",
       " 'Star Wars: Episode IV - A New Hope (1977)',\n",
       " 'Star Wars: Episode VI - Return of the Jedi (1983)',\n",
       " 'Lord of the Rings: The Fellowship of the Ring, The (2001)',\n",
       " 'Sixth Sense, The (1999)',\n",
       " 'Lord of the Rings: The Return of the King, The (2003)',\n",
       " 'Raiders of the Lost Ark (Indiana Jones and the Raiders of the Lost Ark) (1981)',\n",
       " 'Gladiator (2000)']"
      ]
     },
     "execution_count": 13,
     "metadata": {},
     "output_type": "execute_result"
    }
   ],
   "source": [
    "get_top_user_films(movie_titles=['Matrix, The (1999)'], distance_func=cosine, top_n=10)"
   ]
  },
  {
   "cell_type": "code",
   "execution_count": 14,
   "metadata": {},
   "outputs": [],
   "source": [
    "def rank_movies(movies_to_score, user_movies, top_n=15):\n",
    "    # отранжировать с помощью SVD \n",
    "    scores = []\n",
    "    titles = []\n",
    "    for movie in movies_to_score:\n",
    "        if movie in user_movies:\n",
    "            continue\n",
    "        scores.append(algo.predict(uid=current_user_id, iid=movie).est)\n",
    "        titles.append(movie)\n",
    "    \n",
    "    best_indexes = np.argsort(scores)[-top_n:]\n",
    "    res = []\n",
    "    for i in reversed(best_indexes):\n",
    "        res.append((titles[i], scores[i]))\n",
    "        \n",
    "    return res"
   ]
  },
  {
   "cell_type": "code",
   "execution_count": 15,
   "metadata": {},
   "outputs": [],
   "source": [
    "def recommend_for_user(user_id, top_n=10):        \n",
    "    # получить 5 любимых фильмов пользователя\n",
    "    best_user_movies = movies_with_ratings[movies_with_ratings.userId == current_user_id].sort_values(by='rating', ascending=False).head(5).title.tolist()\n",
    "    print(f'the best movies the user watched : {best_user_movies}')\n",
    "    print()\n",
    "\n",
    "    # получить списки фильмов, выданных коллаборативной фильтрацией\n",
    "    user_movies = movies_with_ratings[movies_with_ratings.userId == user_id].title.unique()\n",
    "    movies_to_score = get_top_user_films(best_user_movies)\n",
    "    \n",
    "    assert len(set(movies_to_score) - set(user_movies)) > 0, 'All good films user has already  watched!'\n",
    "\n",
    "    # отранжировать с помощью SVD \n",
    "    ranked_movies = rank_movies(movies_to_score, user_movies, top_n=top_n)\n",
    "    print(f'Top {top_n} films recommended to user based on his film history :')\n",
    "    for i in ranked_movies:\n",
    "        print(i)"
   ]
  },
  {
   "cell_type": "code",
   "execution_count": 16,
   "metadata": {},
   "outputs": [
    {
     "name": "stdout",
     "output_type": "stream",
     "text": [
      "the best movies the user watched : ['The Jinx: The Life and Deaths of Robert Durst (2015)', 'Mad Max: Fury Road (2015)', 'Wolf of Wall Street, The (2013)', 'Warrior (2011)', 'Step Brothers (2008)']\n",
      "\n",
      "Top 10 films recommended to user based on his film history :\n",
      "('Guardians of the Galaxy (2014)', 3.951287587562543)\n",
      "('The Martian (2015)', 3.9367011462847046)\n",
      "('Edge of Tomorrow (2014)', 3.9268518535387766)\n",
      "('Kingsman: The Secret Service (2015)', 3.905499784740675)\n",
      "('Moonrise Kingdom (2012)', 3.8901269729974928)\n",
      "('The Revenant (2015)', 3.888402301237388)\n",
      "('John Wick (2014)', 3.8804034492703527)\n",
      "('Star Wars: Episode VII - The Force Awakens (2015)', 3.846354087121646)\n",
      "('Grand Budapest Hotel, The (2014)', 3.8153094506053113)\n",
      "('Avengers, The (2012)', 3.807066803095476)\n"
     ]
    }
   ],
   "source": [
    "current_user_id = 2\n",
    "recommend_for_user(current_user_id)"
   ]
  },
  {
   "cell_type": "code",
   "execution_count": null,
   "metadata": {},
   "outputs": [],
   "source": []
  }
 ],
 "metadata": {
  "kernelspec": {
   "display_name": "Python 3",
   "language": "python",
   "name": "python3"
  },
  "language_info": {
   "codemirror_mode": {
    "name": "ipython",
    "version": 3
   },
   "file_extension": ".py",
   "mimetype": "text/x-python",
   "name": "python",
   "nbconvert_exporter": "python",
   "pygments_lexer": "ipython3",
   "version": "3.7.3"
  }
 },
 "nbformat": 4,
 "nbformat_minor": 2
}
