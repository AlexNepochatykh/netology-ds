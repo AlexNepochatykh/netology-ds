{
 "cells": [
  {
   "cell_type": "markdown",
   "metadata": {},
   "source": [
    "### Задание\n",
    "\n",
    "Использовать dataset MovieLens.\n",
    "Построить рекомендации (регрессия, предсказываем оценку) на фичах:  \n",
    "TF-IDF на тегах и жанрах  \n",
    "Средние оценки (+ median, variance, etc.) пользователя и фильма  \n",
    "Оценить RMSE на тестовой выборке  \n",
    "Модель будет строиться для конкретного пользователя"
   ]
  },
  {
   "cell_type": "code",
   "execution_count": 1,
   "metadata": {},
   "outputs": [],
   "source": [
    "import pandas as pd\n",
    "import numpy as np\n",
    "\n",
    "from tqdm import tqdm_notebook\n",
    "\n",
    "import matplotlib.pyplot as plt\n",
    "%matplotlib inline"
   ]
  },
  {
   "cell_type": "code",
   "execution_count": 2,
   "metadata": {},
   "outputs": [],
   "source": [
    "# соберем все данные в свои датасеты\n",
    "links = pd.read_csv('data/links.csv')\n",
    "movies = pd.read_csv('data/movies.csv')\n",
    "ratings = pd.read_csv('data/ratings.csv')\n",
    "tags = pd.read_csv('data/tags.csv')"
   ]
  },
  {
   "cell_type": "code",
   "execution_count": 3,
   "metadata": {},
   "outputs": [],
   "source": [
    "# соберем общий датасет из полученных данных\n",
    "df = pd.merge(left=movies, right=ratings[['userId', 'movieId','rating']], how='inner', on='movieId')\n",
    "df = pd.merge(left=df, right=tags[['movieId', 'tag']], how='inner', on='movieId')"
   ]
  },
  {
   "cell_type": "code",
   "execution_count": 4,
   "metadata": {},
   "outputs": [
    {
     "data": {
      "text/html": [
       "<div>\n",
       "<style scoped>\n",
       "    .dataframe tbody tr th:only-of-type {\n",
       "        vertical-align: middle;\n",
       "    }\n",
       "\n",
       "    .dataframe tbody tr th {\n",
       "        vertical-align: top;\n",
       "    }\n",
       "\n",
       "    .dataframe thead th {\n",
       "        text-align: right;\n",
       "    }\n",
       "</style>\n",
       "<table border=\"1\" class=\"dataframe\">\n",
       "  <thead>\n",
       "    <tr style=\"text-align: right;\">\n",
       "      <th></th>\n",
       "      <th>movieId</th>\n",
       "      <th>title</th>\n",
       "      <th>genres</th>\n",
       "      <th>userId</th>\n",
       "      <th>rating</th>\n",
       "      <th>tag</th>\n",
       "    </tr>\n",
       "  </thead>\n",
       "  <tbody>\n",
       "    <tr>\n",
       "      <th>0</th>\n",
       "      <td>1</td>\n",
       "      <td>Toy Story (1995)</td>\n",
       "      <td>Adventure|Animation|Children|Comedy|Fantasy</td>\n",
       "      <td>1</td>\n",
       "      <td>4.0</td>\n",
       "      <td>pixar</td>\n",
       "    </tr>\n",
       "    <tr>\n",
       "      <th>1</th>\n",
       "      <td>1</td>\n",
       "      <td>Toy Story (1995)</td>\n",
       "      <td>Adventure|Animation|Children|Comedy|Fantasy</td>\n",
       "      <td>1</td>\n",
       "      <td>4.0</td>\n",
       "      <td>pixar</td>\n",
       "    </tr>\n",
       "    <tr>\n",
       "      <th>2</th>\n",
       "      <td>1</td>\n",
       "      <td>Toy Story (1995)</td>\n",
       "      <td>Adventure|Animation|Children|Comedy|Fantasy</td>\n",
       "      <td>1</td>\n",
       "      <td>4.0</td>\n",
       "      <td>fun</td>\n",
       "    </tr>\n",
       "    <tr>\n",
       "      <th>3</th>\n",
       "      <td>1</td>\n",
       "      <td>Toy Story (1995)</td>\n",
       "      <td>Adventure|Animation|Children|Comedy|Fantasy</td>\n",
       "      <td>5</td>\n",
       "      <td>4.0</td>\n",
       "      <td>pixar</td>\n",
       "    </tr>\n",
       "    <tr>\n",
       "      <th>4</th>\n",
       "      <td>1</td>\n",
       "      <td>Toy Story (1995)</td>\n",
       "      <td>Adventure|Animation|Children|Comedy|Fantasy</td>\n",
       "      <td>5</td>\n",
       "      <td>4.0</td>\n",
       "      <td>pixar</td>\n",
       "    </tr>\n",
       "  </tbody>\n",
       "</table>\n",
       "</div>"
      ],
      "text/plain": [
       "   movieId             title                                       genres  \\\n",
       "0        1  Toy Story (1995)  Adventure|Animation|Children|Comedy|Fantasy   \n",
       "1        1  Toy Story (1995)  Adventure|Animation|Children|Comedy|Fantasy   \n",
       "2        1  Toy Story (1995)  Adventure|Animation|Children|Comedy|Fantasy   \n",
       "3        1  Toy Story (1995)  Adventure|Animation|Children|Comedy|Fantasy   \n",
       "4        1  Toy Story (1995)  Adventure|Animation|Children|Comedy|Fantasy   \n",
       "\n",
       "   userId  rating    tag  \n",
       "0       1     4.0  pixar  \n",
       "1       1     4.0  pixar  \n",
       "2       1     4.0    fun  \n",
       "3       5     4.0  pixar  \n",
       "4       5     4.0  pixar  "
      ]
     },
     "execution_count": 4,
     "metadata": {},
     "output_type": "execute_result"
    }
   ],
   "source": [
    "df.head()"
   ]
  },
  {
   "cell_type": "code",
   "execution_count": 5,
   "metadata": {},
   "outputs": [
    {
     "data": {
      "text/html": [
       "<div>\n",
       "<style scoped>\n",
       "    .dataframe tbody tr th:only-of-type {\n",
       "        vertical-align: middle;\n",
       "    }\n",
       "\n",
       "    .dataframe tbody tr th {\n",
       "        vertical-align: top;\n",
       "    }\n",
       "\n",
       "    .dataframe thead th {\n",
       "        text-align: right;\n",
       "    }\n",
       "</style>\n",
       "<table border=\"1\" class=\"dataframe\">\n",
       "  <thead>\n",
       "    <tr style=\"text-align: right;\">\n",
       "      <th></th>\n",
       "      <th>rating</th>\n",
       "    </tr>\n",
       "    <tr>\n",
       "      <th>userId</th>\n",
       "      <th></th>\n",
       "    </tr>\n",
       "  </thead>\n",
       "  <tbody>\n",
       "    <tr>\n",
       "      <th>474</th>\n",
       "      <td>2455</td>\n",
       "    </tr>\n",
       "    <tr>\n",
       "      <th>414</th>\n",
       "      <td>2343</td>\n",
       "    </tr>\n",
       "    <tr>\n",
       "      <th>599</th>\n",
       "      <td>2100</td>\n",
       "    </tr>\n",
       "    <tr>\n",
       "      <th>68</th>\n",
       "      <td>1791</td>\n",
       "    </tr>\n",
       "    <tr>\n",
       "      <th>610</th>\n",
       "      <td>1701</td>\n",
       "    </tr>\n",
       "  </tbody>\n",
       "</table>\n",
       "</div>"
      ],
      "text/plain": [
       "        rating\n",
       "userId        \n",
       "474       2455\n",
       "414       2343\n",
       "599       2100\n",
       "68        1791\n",
       "610       1701"
      ]
     },
     "execution_count": 5,
     "metadata": {},
     "output_type": "execute_result"
    }
   ],
   "source": [
    "# Отберем топ 10 пользователей, поставивших оценки\n",
    "df[['userId','rating']].groupby('userId').count().sort_values('rating', ascending=False)[:5]"
   ]
  },
  {
   "cell_type": "code",
   "execution_count": 6,
   "metadata": {},
   "outputs": [
    {
     "name": "stdout",
     "output_type": "stream",
     "text": [
      "<class 'pandas.core.frame.DataFrame'>\n",
      "Int64Index: 2455 entries, 492 to 212440\n",
      "Data columns (total 6 columns):\n",
      "movieId    2455 non-null int64\n",
      "title      2455 non-null object\n",
      "genres     2455 non-null object\n",
      "userId     2455 non-null int64\n",
      "rating     2455 non-null float64\n",
      "tag        2455 non-null object\n",
      "dtypes: float64(1), int64(2), object(3)\n",
      "memory usage: 134.3+ KB\n"
     ]
    }
   ],
   "source": [
    "# посмотрим на пользователя, поставившего максимальное число оценок\n",
    "df[df.userId == 474].info()"
   ]
  },
  {
   "cell_type": "code",
   "execution_count": 7,
   "metadata": {},
   "outputs": [],
   "source": [
    "user_474_index = df[df.userId == 474].index"
   ]
  },
  {
   "cell_type": "markdown",
   "metadata": {},
   "source": [
    "### Получим значения tfidf для жанров и тегов"
   ]
  },
  {
   "cell_type": "code",
   "execution_count": 9,
   "metadata": {},
   "outputs": [],
   "source": [
    "def change_string(s):\n",
    "    return ' '.join(s.replace(' ', '').replace('-', '').split('|'))"
   ]
  },
  {
   "cell_type": "code",
   "execution_count": 10,
   "metadata": {},
   "outputs": [],
   "source": [
    "from sklearn.feature_extraction.text import TfidfVectorizer"
   ]
  },
  {
   "cell_type": "code",
   "execution_count": 11,
   "metadata": {},
   "outputs": [],
   "source": [
    "movie_genres = [change_string(g) for g in df.genres.values]\n",
    "tag_strings = [change_string(g) for g in df.tag.values]"
   ]
  },
  {
   "cell_type": "code",
   "execution_count": 12,
   "metadata": {},
   "outputs": [],
   "source": [
    "genres_vectorizer, tag_vectorizer = TfidfVectorizer(), TfidfVectorizer()\n",
    "X_movies_tfidf = genres_vectorizer.fit_transform(movie_genres)\n",
    "X_tag_tfidf = tag_vectorizer.fit_transform(tag_strings)"
   ]
  },
  {
   "cell_type": "code",
   "execution_count": 13,
   "metadata": {},
   "outputs": [],
   "source": [
    "def get_df_from_csr(csr, prefix):\n",
    "    cols = [ f'{prefix}_{i}' for i in range(csr.shape[1])] \n",
    "    return pd.DataFrame( csr.todense(), columns=cols )"
   ]
  },
  {
   "cell_type": "code",
   "execution_count": 14,
   "metadata": {},
   "outputs": [
    {
     "data": {
      "text/plain": [
       "<2455x1469 sparse matrix of type '<class 'numpy.float64'>'\n",
       "\twith 2481 stored elements in Compressed Sparse Row format>"
      ]
     },
     "execution_count": 14,
     "metadata": {},
     "output_type": "execute_result"
    }
   ],
   "source": [
    "X_tag_tfidf[user_474_index]"
   ]
  },
  {
   "cell_type": "code",
   "execution_count": 15,
   "metadata": {},
   "outputs": [
    {
     "data": {
      "text/plain": [
       "<2455x1469 sparse matrix of type '<class 'numpy.float64'>'\n",
       "\twith 2481 stored elements in Compressed Sparse Row format>"
      ]
     },
     "execution_count": 15,
     "metadata": {},
     "output_type": "execute_result"
    }
   ],
   "source": [
    "X_tag_tfidf[user_474_index]"
   ]
  },
  {
   "cell_type": "code",
   "execution_count": 16,
   "metadata": {},
   "outputs": [
    {
     "data": {
      "text/plain": [
       "True"
      ]
     },
     "execution_count": 16,
     "metadata": {},
     "output_type": "execute_result"
    }
   ],
   "source": [
    "df.iloc[user_474_index, :].userId.unique()[0] == 474"
   ]
  },
  {
   "cell_type": "code",
   "execution_count": 17,
   "metadata": {},
   "outputs": [],
   "source": [
    "df_474 = pd.concat([\n",
    "    df[['movieId', 'userId', 'rating']].iloc[user_474_index, :], \n",
    "    get_df_from_csr(X_movies_tfidf[user_474_index], prefix='movie_tfidf').set_index(user_474_index), \n",
    "    get_df_from_csr(X_tag_tfidf[user_474_index], prefix='tag_tfidf').set_index(user_474_index), \n",
    "    ], axis=1)"
   ]
  },
  {
   "cell_type": "code",
   "execution_count": 18,
   "metadata": {},
   "outputs": [
    {
     "data": {
      "text/plain": [
       "0"
      ]
     },
     "execution_count": 18,
     "metadata": {},
     "output_type": "execute_result"
    }
   ],
   "source": [
    "sum(df_474.isna().sum())"
   ]
  },
  {
   "cell_type": "code",
   "execution_count": 19,
   "metadata": {},
   "outputs": [
    {
     "name": "stdout",
     "output_type": "stream",
     "text": [
      "<class 'pandas.core.frame.DataFrame'>\n",
      "Int64Index: 1198 entries, 492 to 212437\n",
      "Columns: 1492 entries, movieId to tag_tfidf_1468\n",
      "dtypes: float64(1490), int64(2)\n",
      "memory usage: 13.6 MB\n"
     ]
    }
   ],
   "source": [
    "df_474.drop_duplicates(subset=['movieId', 'userId', 'rating'], inplace=True)\n",
    "df_474.info()"
   ]
  },
  {
   "cell_type": "code",
   "execution_count": 20,
   "metadata": {},
   "outputs": [],
   "source": [
    "from sklearn.model_selection import train_test_split\n",
    "from sklearn.metrics import mean_squared_error, r2_score\n",
    "from sklearn.ensemble import RandomForestRegressor\n",
    "from catboost import CatBoostRegressor"
   ]
  },
  {
   "cell_type": "code",
   "execution_count": 21,
   "metadata": {},
   "outputs": [],
   "source": [
    "df_cols = list( set(df_474.columns) - set(['rating']) )\n",
    "X_train, X_test, y_train, y_test = train_test_split(df_474[df_cols], df_474['rating'])"
   ]
  },
  {
   "cell_type": "code",
   "execution_count": 22,
   "metadata": {},
   "outputs": [],
   "source": [
    "model = CatBoostRegressor(verbose=False)\n",
    "model.fit(X_train, y_train);"
   ]
  },
  {
   "cell_type": "code",
   "execution_count": 23,
   "metadata": {},
   "outputs": [
    {
     "name": "stdout",
     "output_type": "stream",
     "text": [
      "train rmse : 0.6588425969491828\n",
      "test rmse : 0.777249690583498\n"
     ]
    }
   ],
   "source": [
    "print(f'train rmse : {np.sqrt(mean_squared_error(model.predict(X_train), y_train))}')\n",
    "y_pred_first_iter = model.predict(X_test)\n",
    "print(f'test rmse : {np.sqrt(mean_squared_error(y_pred_first_iter, y_test))}')"
   ]
  },
  {
   "cell_type": "code",
   "execution_count": 24,
   "metadata": {},
   "outputs": [
    {
     "name": "stdout",
     "output_type": "stream",
     "text": [
      "pred : 3.646, target : 4.0, delta : 0.35  \n",
      "pred : 4.123, target : 4.0, delta : -0.12  \n",
      "pred : 3.793, target : 4.0, delta : 0.21  \n",
      "pred : 3.882, target : 5.0, delta : 1.12  \n",
      "pred : 3.778, target : 4.5, delta : 0.72  \n",
      "pred : 3.78, target : 4.5, delta : 0.72  \n",
      "pred : 3.656, target : 2.0, delta : -1.66  \n",
      "pred : 3.158, target : 2.0, delta : -1.16  \n",
      "pred : 3.606, target : 2.0, delta : -1.61  \n",
      "pred : 3.794, target : 4.0, delta : 0.21  \n",
      "pred : 3.162, target : 1.0, delta : -2.16  \n",
      "pred : 3.873, target : 4.0, delta : 0.13  \n",
      "pred : 3.674, target : 3.5, delta : -0.17  \n",
      "pred : 3.899, target : 4.5, delta : 0.6  \n",
      "pred : 3.326, target : 3.0, delta : -0.33  \n",
      "pred : 4.291, target : 5.0, delta : 0.71  \n",
      "pred : 3.871, target : 4.0, delta : 0.13  \n",
      "pred : 3.521, target : 4.0, delta : 0.48  \n",
      "pred : 3.778, target : 4.0, delta : 0.22  \n",
      "pred : 3.911, target : 3.5, delta : -0.41  \n",
      "pred : 3.425, target : 1.5, delta : -1.93  \n",
      "pred : 4.32, target : 3.5, delta : -0.82  \n",
      "pred : 3.818, target : 2.5, delta : -1.32  \n",
      "pred : 3.72, target : 4.0, delta : 0.28  \n",
      "pred : 3.915, target : 4.0, delta : 0.09  \n",
      "pred : 3.748, target : 4.0, delta : 0.25  \n",
      "pred : 3.8, target : 4.0, delta : 0.2  \n",
      "pred : 3.944, target : 4.0, delta : 0.06  \n",
      "pred : 3.968, target : 4.0, delta : 0.03  \n",
      "pred : 3.382, target : 4.5, delta : 1.12  \n"
     ]
    }
   ],
   "source": [
    "# проверим, как выглядят выборочные ошибки\n",
    "for i in zip(y_pred_first_iter[:30], y_test[:30]): \n",
    "    print(f'pred : {round(i[0], 3)}, target : {i[1]}, delta : {round(i[1] - i[0], 2)}  ')"
   ]
  },
  {
   "cell_type": "markdown",
   "metadata": {},
   "source": [
    "### Добавим средние оценки для пользователя и фильма"
   ]
  },
  {
   "cell_type": "code",
   "execution_count": 26,
   "metadata": {},
   "outputs": [],
   "source": [
    "df_movie_mean_rating = pd.DataFrame(df[['movieId', 'rating']].groupby('movieId').mean())\n",
    "df_movie_mean_rating.columns = ['movie_mean_rating']"
   ]
  },
  {
   "cell_type": "code",
   "execution_count": 27,
   "metadata": {},
   "outputs": [],
   "source": [
    "df_user_mean_rating = pd.DataFrame(df[['userId', 'rating']].groupby('userId').mean())\n",
    "df_user_mean_rating.columns = ['user_mean_rating']"
   ]
  },
  {
   "cell_type": "code",
   "execution_count": 28,
   "metadata": {},
   "outputs": [
    {
     "data": {
      "text/html": [
       "<div>\n",
       "<style scoped>\n",
       "    .dataframe tbody tr th:only-of-type {\n",
       "        vertical-align: middle;\n",
       "    }\n",
       "\n",
       "    .dataframe tbody tr th {\n",
       "        vertical-align: top;\n",
       "    }\n",
       "\n",
       "    .dataframe thead th {\n",
       "        text-align: right;\n",
       "    }\n",
       "</style>\n",
       "<table border=\"1\" class=\"dataframe\">\n",
       "  <thead>\n",
       "    <tr style=\"text-align: right;\">\n",
       "      <th></th>\n",
       "      <th>movieId</th>\n",
       "      <th>title</th>\n",
       "      <th>genres</th>\n",
       "      <th>userId</th>\n",
       "      <th>rating</th>\n",
       "      <th>tag</th>\n",
       "      <th>movie_mean_rating</th>\n",
       "      <th>user_mean_rating</th>\n",
       "    </tr>\n",
       "  </thead>\n",
       "  <tbody>\n",
       "    <tr>\n",
       "      <th>0</th>\n",
       "      <td>1</td>\n",
       "      <td>Toy Story (1995)</td>\n",
       "      <td>Adventure|Animation|Children|Comedy|Fantasy</td>\n",
       "      <td>1</td>\n",
       "      <td>4.0</td>\n",
       "      <td>pixar</td>\n",
       "      <td>3.920930</td>\n",
       "      <td>4.040472</td>\n",
       "    </tr>\n",
       "    <tr>\n",
       "      <th>1</th>\n",
       "      <td>1</td>\n",
       "      <td>Toy Story (1995)</td>\n",
       "      <td>Adventure|Animation|Children|Comedy|Fantasy</td>\n",
       "      <td>1</td>\n",
       "      <td>4.0</td>\n",
       "      <td>pixar</td>\n",
       "      <td>3.920930</td>\n",
       "      <td>4.040472</td>\n",
       "    </tr>\n",
       "    <tr>\n",
       "      <th>2</th>\n",
       "      <td>1</td>\n",
       "      <td>Toy Story (1995)</td>\n",
       "      <td>Adventure|Animation|Children|Comedy|Fantasy</td>\n",
       "      <td>1</td>\n",
       "      <td>4.0</td>\n",
       "      <td>fun</td>\n",
       "      <td>3.920930</td>\n",
       "      <td>4.040472</td>\n",
       "    </tr>\n",
       "    <tr>\n",
       "      <th>3</th>\n",
       "      <td>3</td>\n",
       "      <td>Grumpier Old Men (1995)</td>\n",
       "      <td>Comedy|Romance</td>\n",
       "      <td>1</td>\n",
       "      <td>4.0</td>\n",
       "      <td>moldy</td>\n",
       "      <td>3.259615</td>\n",
       "      <td>4.040472</td>\n",
       "    </tr>\n",
       "    <tr>\n",
       "      <th>4</th>\n",
       "      <td>3</td>\n",
       "      <td>Grumpier Old Men (1995)</td>\n",
       "      <td>Comedy|Romance</td>\n",
       "      <td>1</td>\n",
       "      <td>4.0</td>\n",
       "      <td>old</td>\n",
       "      <td>3.259615</td>\n",
       "      <td>4.040472</td>\n",
       "    </tr>\n",
       "  </tbody>\n",
       "</table>\n",
       "</div>"
      ],
      "text/plain": [
       "   movieId                    title  \\\n",
       "0        1         Toy Story (1995)   \n",
       "1        1         Toy Story (1995)   \n",
       "2        1         Toy Story (1995)   \n",
       "3        3  Grumpier Old Men (1995)   \n",
       "4        3  Grumpier Old Men (1995)   \n",
       "\n",
       "                                        genres  userId  rating    tag  \\\n",
       "0  Adventure|Animation|Children|Comedy|Fantasy       1     4.0  pixar   \n",
       "1  Adventure|Animation|Children|Comedy|Fantasy       1     4.0  pixar   \n",
       "2  Adventure|Animation|Children|Comedy|Fantasy       1     4.0    fun   \n",
       "3                               Comedy|Romance       1     4.0  moldy   \n",
       "4                               Comedy|Romance       1     4.0    old   \n",
       "\n",
       "   movie_mean_rating  user_mean_rating  \n",
       "0           3.920930          4.040472  \n",
       "1           3.920930          4.040472  \n",
       "2           3.920930          4.040472  \n",
       "3           3.259615          4.040472  \n",
       "4           3.259615          4.040472  "
      ]
     },
     "execution_count": 28,
     "metadata": {},
     "output_type": "execute_result"
    }
   ],
   "source": [
    "df = pd.merge(left=df, right=df_movie_mean_rating, how='inner', on='movieId')\n",
    "df = pd.merge(left=df, right=df_user_mean_rating, how='inner', on='userId')\n",
    "df.head()"
   ]
  },
  {
   "cell_type": "code",
   "execution_count": 29,
   "metadata": {},
   "outputs": [],
   "source": [
    "# соберем финальный датасет, используя полученные с помощью tf-idf оценки \n",
    "user_474_index = df[df.userId == 474].index\n",
    "df_474 = pd.concat([\n",
    "    df[['movieId', 'userId', 'rating', 'movie_mean_rating', 'user_mean_rating']].iloc[user_474_index, :], \n",
    "    get_df_from_csr(X_movies_tfidf[user_474_index], prefix='movie_tfidf').set_index(user_474_index), \n",
    "    get_df_from_csr(X_tag_tfidf[user_474_index], prefix='tag_tfidf').set_index(user_474_index), \n",
    "    ], axis=1)"
   ]
  },
  {
   "cell_type": "code",
   "execution_count": 30,
   "metadata": {},
   "outputs": [
    {
     "data": {
      "text/html": [
       "<div>\n",
       "<style scoped>\n",
       "    .dataframe tbody tr th:only-of-type {\n",
       "        vertical-align: middle;\n",
       "    }\n",
       "\n",
       "    .dataframe tbody tr th {\n",
       "        vertical-align: top;\n",
       "    }\n",
       "\n",
       "    .dataframe thead th {\n",
       "        text-align: right;\n",
       "    }\n",
       "</style>\n",
       "<table border=\"1\" class=\"dataframe\">\n",
       "  <thead>\n",
       "    <tr style=\"text-align: right;\">\n",
       "      <th></th>\n",
       "      <th>movieId</th>\n",
       "      <th>userId</th>\n",
       "      <th>rating</th>\n",
       "      <th>movie_mean_rating</th>\n",
       "      <th>user_mean_rating</th>\n",
       "      <th>movie_tfidf_0</th>\n",
       "      <th>movie_tfidf_1</th>\n",
       "      <th>movie_tfidf_2</th>\n",
       "      <th>movie_tfidf_3</th>\n",
       "      <th>movie_tfidf_4</th>\n",
       "      <th>...</th>\n",
       "      <th>tag_tfidf_1459</th>\n",
       "      <th>tag_tfidf_1460</th>\n",
       "      <th>tag_tfidf_1461</th>\n",
       "      <th>tag_tfidf_1462</th>\n",
       "      <th>tag_tfidf_1463</th>\n",
       "      <th>tag_tfidf_1464</th>\n",
       "      <th>tag_tfidf_1465</th>\n",
       "      <th>tag_tfidf_1466</th>\n",
       "      <th>tag_tfidf_1467</th>\n",
       "      <th>tag_tfidf_1468</th>\n",
       "    </tr>\n",
       "  </thead>\n",
       "  <tbody>\n",
       "    <tr>\n",
       "      <th>88596</th>\n",
       "      <td>1</td>\n",
       "      <td>474</td>\n",
       "      <td>4.0</td>\n",
       "      <td>3.920930</td>\n",
       "      <td>3.778004</td>\n",
       "      <td>0.0</td>\n",
       "      <td>0.0</td>\n",
       "      <td>0.0</td>\n",
       "      <td>0.0</td>\n",
       "      <td>0.791136</td>\n",
       "      <td>...</td>\n",
       "      <td>0.0</td>\n",
       "      <td>0.0</td>\n",
       "      <td>0.0</td>\n",
       "      <td>0.0</td>\n",
       "      <td>0.0</td>\n",
       "      <td>0.0</td>\n",
       "      <td>0.0</td>\n",
       "      <td>0.0</td>\n",
       "      <td>0.0</td>\n",
       "      <td>0.0</td>\n",
       "    </tr>\n",
       "    <tr>\n",
       "      <th>88597</th>\n",
       "      <td>1</td>\n",
       "      <td>474</td>\n",
       "      <td>4.0</td>\n",
       "      <td>3.920930</td>\n",
       "      <td>3.778004</td>\n",
       "      <td>0.0</td>\n",
       "      <td>0.0</td>\n",
       "      <td>0.0</td>\n",
       "      <td>0.0</td>\n",
       "      <td>0.791136</td>\n",
       "      <td>...</td>\n",
       "      <td>0.0</td>\n",
       "      <td>0.0</td>\n",
       "      <td>0.0</td>\n",
       "      <td>0.0</td>\n",
       "      <td>0.0</td>\n",
       "      <td>0.0</td>\n",
       "      <td>0.0</td>\n",
       "      <td>0.0</td>\n",
       "      <td>0.0</td>\n",
       "      <td>0.0</td>\n",
       "    </tr>\n",
       "    <tr>\n",
       "      <th>88598</th>\n",
       "      <td>1</td>\n",
       "      <td>474</td>\n",
       "      <td>4.0</td>\n",
       "      <td>3.920930</td>\n",
       "      <td>3.778004</td>\n",
       "      <td>0.0</td>\n",
       "      <td>0.0</td>\n",
       "      <td>0.0</td>\n",
       "      <td>0.0</td>\n",
       "      <td>0.791136</td>\n",
       "      <td>...</td>\n",
       "      <td>0.0</td>\n",
       "      <td>0.0</td>\n",
       "      <td>0.0</td>\n",
       "      <td>0.0</td>\n",
       "      <td>0.0</td>\n",
       "      <td>0.0</td>\n",
       "      <td>0.0</td>\n",
       "      <td>0.0</td>\n",
       "      <td>0.0</td>\n",
       "      <td>0.0</td>\n",
       "    </tr>\n",
       "    <tr>\n",
       "      <th>88599</th>\n",
       "      <td>2</td>\n",
       "      <td>474</td>\n",
       "      <td>3.0</td>\n",
       "      <td>3.431818</td>\n",
       "      <td>3.778004</td>\n",
       "      <td>0.0</td>\n",
       "      <td>0.0</td>\n",
       "      <td>0.0</td>\n",
       "      <td>0.0</td>\n",
       "      <td>0.791136</td>\n",
       "      <td>...</td>\n",
       "      <td>0.0</td>\n",
       "      <td>0.0</td>\n",
       "      <td>0.0</td>\n",
       "      <td>0.0</td>\n",
       "      <td>0.0</td>\n",
       "      <td>0.0</td>\n",
       "      <td>0.0</td>\n",
       "      <td>0.0</td>\n",
       "      <td>0.0</td>\n",
       "      <td>0.0</td>\n",
       "    </tr>\n",
       "    <tr>\n",
       "      <th>88600</th>\n",
       "      <td>2</td>\n",
       "      <td>474</td>\n",
       "      <td>3.0</td>\n",
       "      <td>3.431818</td>\n",
       "      <td>3.778004</td>\n",
       "      <td>0.0</td>\n",
       "      <td>0.0</td>\n",
       "      <td>0.0</td>\n",
       "      <td>0.0</td>\n",
       "      <td>0.791136</td>\n",
       "      <td>...</td>\n",
       "      <td>0.0</td>\n",
       "      <td>0.0</td>\n",
       "      <td>0.0</td>\n",
       "      <td>0.0</td>\n",
       "      <td>0.0</td>\n",
       "      <td>0.0</td>\n",
       "      <td>0.0</td>\n",
       "      <td>0.0</td>\n",
       "      <td>0.0</td>\n",
       "      <td>0.0</td>\n",
       "    </tr>\n",
       "  </tbody>\n",
       "</table>\n",
       "<p>5 rows × 1494 columns</p>\n",
       "</div>"
      ],
      "text/plain": [
       "       movieId  userId  rating  movie_mean_rating  user_mean_rating  \\\n",
       "88596        1     474     4.0           3.920930          3.778004   \n",
       "88597        1     474     4.0           3.920930          3.778004   \n",
       "88598        1     474     4.0           3.920930          3.778004   \n",
       "88599        2     474     3.0           3.431818          3.778004   \n",
       "88600        2     474     3.0           3.431818          3.778004   \n",
       "\n",
       "       movie_tfidf_0  movie_tfidf_1  movie_tfidf_2  movie_tfidf_3  \\\n",
       "88596            0.0            0.0            0.0            0.0   \n",
       "88597            0.0            0.0            0.0            0.0   \n",
       "88598            0.0            0.0            0.0            0.0   \n",
       "88599            0.0            0.0            0.0            0.0   \n",
       "88600            0.0            0.0            0.0            0.0   \n",
       "\n",
       "       movie_tfidf_4  ...  tag_tfidf_1459  tag_tfidf_1460  tag_tfidf_1461  \\\n",
       "88596       0.791136  ...             0.0             0.0             0.0   \n",
       "88597       0.791136  ...             0.0             0.0             0.0   \n",
       "88598       0.791136  ...             0.0             0.0             0.0   \n",
       "88599       0.791136  ...             0.0             0.0             0.0   \n",
       "88600       0.791136  ...             0.0             0.0             0.0   \n",
       "\n",
       "       tag_tfidf_1462  tag_tfidf_1463  tag_tfidf_1464  tag_tfidf_1465  \\\n",
       "88596             0.0             0.0             0.0             0.0   \n",
       "88597             0.0             0.0             0.0             0.0   \n",
       "88598             0.0             0.0             0.0             0.0   \n",
       "88599             0.0             0.0             0.0             0.0   \n",
       "88600             0.0             0.0             0.0             0.0   \n",
       "\n",
       "       tag_tfidf_1466  tag_tfidf_1467  tag_tfidf_1468  \n",
       "88596             0.0             0.0             0.0  \n",
       "88597             0.0             0.0             0.0  \n",
       "88598             0.0             0.0             0.0  \n",
       "88599             0.0             0.0             0.0  \n",
       "88600             0.0             0.0             0.0  \n",
       "\n",
       "[5 rows x 1494 columns]"
      ]
     },
     "execution_count": 30,
     "metadata": {},
     "output_type": "execute_result"
    }
   ],
   "source": [
    "df_474.head()"
   ]
  },
  {
   "cell_type": "code",
   "execution_count": 31,
   "metadata": {},
   "outputs": [],
   "source": [
    "df_cols = list( set(df_474.columns) - set(['rating']) )\n",
    "X_train, X_test, y_train, y_test = train_test_split(df_474[df_cols], df_474['rating'])"
   ]
  },
  {
   "cell_type": "code",
   "execution_count": 32,
   "metadata": {},
   "outputs": [],
   "source": [
    "model = CatBoostRegressor(verbose=False)\n",
    "model.fit(X_train, y_train);"
   ]
  },
  {
   "cell_type": "code",
   "execution_count": 33,
   "metadata": {},
   "outputs": [
    {
     "name": "stdout",
     "output_type": "stream",
     "text": [
      "train rmse : 0.48325377502253597\n",
      "test rmse : 0.5683353347686803\n",
      "pred : 3.711, old_pred : 3.646 target : 2.5, delta : -1.21, old delta : -1.15\n",
      "pred : 3.945, old_pred : 4.123 target : 4.5, delta : 0.56, old delta : 0.38\n",
      "pred : 3.785, old_pred : 3.793 target : 3.5, delta : -0.29, old delta : -0.29\n",
      "pred : 3.967, old_pred : 3.882 target : 4.0, delta : 0.03, old delta : 0.12\n",
      "pred : 4.107, old_pred : 3.778 target : 4.0, delta : -0.11, old delta : 0.22\n",
      "pred : 2.68, old_pred : 3.78 target : 4.0, delta : 1.32, old delta : 0.22\n",
      "pred : 3.616, old_pred : 3.656 target : 2.0, delta : -1.62, old delta : -1.66\n",
      "pred : 3.973, old_pred : 3.158 target : 5.0, delta : 1.03, old delta : 1.84\n",
      "pred : 3.843, old_pred : 3.606 target : 4.5, delta : 0.66, old delta : 0.89\n",
      "pred : 3.796, old_pred : 3.794 target : 3.0, delta : -0.8, old delta : -0.79\n",
      "pred : 2.476, old_pred : 3.162 target : 2.0, delta : -0.48, old delta : -1.16\n",
      "pred : 3.977, old_pred : 3.873 target : 5.0, delta : 1.02, old delta : 1.13\n",
      "pred : 3.921, old_pred : 3.674 target : 3.5, delta : -0.42, old delta : -0.17\n",
      "pred : 2.799, old_pred : 3.899 target : 2.0, delta : -0.8, old delta : -1.9\n",
      "pred : 2.667, old_pred : 3.326 target : 2.5, delta : -0.17, old delta : -0.83\n",
      "pred : 4.001, old_pred : 4.291 target : 4.0, delta : -0.0, old delta : -0.29\n",
      "pred : 3.914, old_pred : 3.871 target : 4.0, delta : 0.09, old delta : 0.13\n",
      "pred : 3.499, old_pred : 3.521 target : 4.0, delta : 0.5, old delta : 0.48\n",
      "pred : 3.651, old_pred : 3.778 target : 3.5, delta : -0.15, old delta : -0.28\n",
      "pred : 3.962, old_pred : 3.911 target : 4.0, delta : 0.04, old delta : 0.09\n",
      "pred : 3.65, old_pred : 3.425 target : 3.5, delta : -0.15, old delta : 0.07\n",
      "pred : 4.103, old_pred : 4.32 target : 4.5, delta : 0.4, old delta : 0.18\n",
      "pred : 3.785, old_pred : 3.818 target : 3.5, delta : -0.29, old delta : -0.32\n",
      "pred : 3.858, old_pred : 3.72 target : 4.0, delta : 0.14, old delta : 0.28\n",
      "pred : 3.54, old_pred : 3.915 target : 3.5, delta : -0.04, old delta : -0.41\n",
      "pred : 3.201, old_pred : 3.748 target : 1.0, delta : -2.2, old delta : -2.75\n",
      "pred : 4.31, old_pred : 3.8 target : 4.5, delta : 0.19, old delta : 0.7\n",
      "pred : 3.969, old_pred : 3.944 target : 4.0, delta : 0.03, old delta : 0.06\n",
      "pred : 3.931, old_pred : 3.968 target : 4.0, delta : 0.07, old delta : 0.03\n",
      "pred : 4.426, old_pred : 3.382 target : 4.5, delta : 0.07, old delta : 1.12\n"
     ]
    }
   ],
   "source": [
    "print(f'train rmse : {np.sqrt(mean_squared_error(model.predict(X_train), y_train))}')\n",
    "y_pred = model.predict(X_test)\n",
    "print(f'test rmse : {np.sqrt(mean_squared_error(y_pred, y_test))}')\n",
    "\n",
    "# проверим, как выглядят выборочные ошибки\n",
    "for i in zip(y_pred[:30], y_pred_first_iter[:30], y_test[:30]): \n",
    "    print(f'pred : {round(i[0], 3)}, old_pred : {round(i[1], 3)} target : {i[2]}, delta : {round(i[2] - i[0], 2)}, old delta : {round(i[2] - i[1], 2)}')"
   ]
  },
  {
   "cell_type": "markdown",
   "metadata": {},
   "source": [
    "C оценками фильмов качество получилось намного лучше"
   ]
  }
 ],
 "metadata": {
  "kernelspec": {
   "display_name": "Python 3",
   "language": "python",
   "name": "python3"
  },
  "language_info": {
   "codemirror_mode": {
    "name": "ipython",
    "version": 3
   },
   "file_extension": ".py",
   "mimetype": "text/x-python",
   "name": "python",
   "nbconvert_exporter": "python",
   "pygments_lexer": "ipython3",
   "version": "3.7.3"
  }
 },
 "nbformat": 4,
 "nbformat_minor": 2
}
