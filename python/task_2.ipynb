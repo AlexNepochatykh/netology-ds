{
 "cells": [
  {
   "cell_type": "markdown",
   "metadata": {},
   "source": [
    "**Задание 1**\n",
    "\n",
    "Дан список с визитами по городам и странам. Напишите код, который возвращает отфильтрованный список geo_logs, содержащий только визиты из России. Считайте, что список geo_logs легко помещается в оперативной памяти."
   ]
  },
  {
   "cell_type": "code",
   "execution_count": 167,
   "metadata": {},
   "outputs": [],
   "source": [
    "geo_logs = [\n",
    "    {'visit1': ['Москва', 'Россия']},\n",
    "    {'visit2': ['Дели', 'Индия']},   \n",
    "    {'visit3': ['Владимир', 'Россия']},\n",
    "    {'visit4': ['Лиссабон', 'Португалия']},    \n",
    "    {'visit5': ['Париж', 'Франция']},    \n",
    "    {'visit6': ['Лиссабон', 'Португалия']},    \n",
    "    {'visit7': ['Тула', 'Россия']},    \n",
    "    {'visit8': ['Тула', 'Россия']},    \n",
    "    {'visit9': ['Курск', 'Россия']},    \n",
    "    {'visit10': ['Архангельск', 'Россия']},    \n",
    "]"
   ]
  },
  {
   "cell_type": "code",
   "execution_count": 168,
   "metadata": {},
   "outputs": [
    {
     "data": {
      "text/plain": [
       "[{'visit1': ['Москва', 'Россия']},\n",
       " {'visit3': ['Владимир', 'Россия']},\n",
       " {'visit7': ['Тула', 'Россия']},\n",
       " {'visit8': ['Тула', 'Россия']},\n",
       " {'visit9': ['Курск', 'Россия']},\n",
       " {'visit10': ['Архангельск', 'Россия']}]"
      ]
     },
     "execution_count": 168,
     "metadata": {},
     "output_type": "execute_result"
    }
   ],
   "source": [
    "geo_logs_russia = []\n",
    "for geo_log_dict in geo_logs:\n",
    "    for geo_visit_name, geo_place in geo_log_dict.items():\n",
    "        if geo_place[1] == 'Россия':\n",
    "            geo_logs_russia.append(geo_log_dict)\n",
    "\n",
    "geo_logs = geo_logs_russia\n",
    "geo_logs"
   ]
  },
  {
   "cell_type": "markdown",
   "metadata": {},
   "source": [
    "**Задание 2**\n",
    "\n",
    "Выведите на экран все уникальные гео-ID из значений словаря ids. Т. е. список вида [213, 15, 54, 119, 98, 35]"
   ]
  },
  {
   "cell_type": "code",
   "execution_count": 169,
   "metadata": {},
   "outputs": [],
   "source": [
    "ids = {'user1': [213, 213, 213, 15, 213], 'user2': [54, 54, 119, 119, 119], 'user3': [213, 98, 98, 35]}"
   ]
  },
  {
   "cell_type": "code",
   "execution_count": 170,
   "metadata": {},
   "outputs": [
    {
     "data": {
      "text/plain": [
       "[98, 35, 15, 213, 54, 119]"
      ]
     },
     "execution_count": 170,
     "metadata": {},
     "output_type": "execute_result"
    }
   ],
   "source": [
    "list(set([i for id in ids.values() for i in id]))"
   ]
  },
  {
   "cell_type": "markdown",
   "metadata": {},
   "source": [
    "**Задание 3**\n",
    "\n",
    "Список поисковых запросов. Получить распределение количества слов в них. \n",
    "Т. е. поисковых запросов из одного слова 5%, из двух - 7%, из трех - 3% итд."
   ]
  },
  {
   "cell_type": "code",
   "execution_count": 171,
   "metadata": {},
   "outputs": [],
   "source": [
    "queries = [\n",
    "    'смотреть сериалы онлайн',\n",
    "    'новости спорта',\n",
    "    'афиша кино',\n",
    "    'курс доллара',\n",
    "    'сериалы этим летом',\n",
    "    'курс по питону',\n",
    "    'сериалы про спорт',\n",
    "]"
   ]
  },
  {
   "cell_type": "code",
   "execution_count": 172,
   "metadata": {},
   "outputs": [
    {
     "name": "stdout",
     "output_type": "stream",
     "text": [
      " Поисковых запросов из 2 слов/слова - 42.86%\n",
      " Поисковых запросов из 3 слов/слова - 57.14%\n"
     ]
    }
   ],
   "source": [
    "hist = {}\n",
    "all_len = len(queries)\n",
    "for query in queries:\n",
    "    words = query.split(' ')\n",
    "    count = len(words)\n",
    "    hist.setdefault(count, 0)\n",
    "    hist[count] += 1\n",
    "\n",
    "for key in sorted(hist.keys()):\n",
    "    print(' Поисковых запросов из {} слов/слова - {:.4}%'.format(key, hist[key] * 100 / all_len))"
   ]
  },
  {
   "cell_type": "markdown",
   "metadata": {},
   "source": [
    "**Задание 4**\n",
    "\n",
    "Дана статистика рекламных каналов по объемам продаж. \n",
    "Напишите скрипт, который возвращает название канала с максимальным объемом.\n",
    "Т. е. в данном примере скрипт должен возвращать 'yandex'.\n",
    "\n"
   ]
  },
  {
   "cell_type": "code",
   "execution_count": 173,
   "metadata": {},
   "outputs": [],
   "source": [
    "stats = {'facebook': 55, 'yandex': 120, 'vk': 115, 'google': 99, 'email': 42, 'ok': 98}"
   ]
  },
  {
   "cell_type": "code",
   "execution_count": 174,
   "metadata": {},
   "outputs": [
    {
     "data": {
      "text/plain": [
       "('yandex', 120)"
      ]
     },
     "execution_count": 174,
     "metadata": {},
     "output_type": "execute_result"
    }
   ],
   "source": [
    "sorted(stats.items(), key = lambda x: x[0], reverse=True)[0]"
   ]
  },
  {
   "cell_type": "markdown",
   "metadata": {},
   "source": [
    "**Задание 5**\n",
    "\n",
    "Дан поток логов по количеству просмотренных страниц для каждого пользователя. Список отсортирован по ID пользователя. Вам необходимо написать алгоритм, который считает среднее значение просмотров на пользователя. Т. е. надо посчитать отношение суммы всех просмотров к количеству уникальных пользователей. Учтите, что весь список stream не помещается в оперативную память, т. е. его нужно обрабатывать поэлементно в цикле."
   ]
  },
  {
   "cell_type": "code",
   "execution_count": 175,
   "metadata": {},
   "outputs": [],
   "source": [
    "stream = [\n",
    "    '2018-01-01,user1,3',    \n",
    "    '2018-01-07,user1,4',    \n",
    "    '2018-03-29,user1,1',    \n",
    "    '2018-04-04,user1,13',    \n",
    "    '2018-01-05,user2,7',    \n",
    "    '2018-06-14,user3,4',    \n",
    "    '2018-07-02,user3,10',    \n",
    "    '2018-03-21,user4,19',    \n",
    "    '2018-03-22,user4,4',    \n",
    "    '2018-04-22,user4,8',    \n",
    "    '2018-05-03,user4,9',    \n",
    "    '2018-05-11,user4,11',    \n",
    "]"
   ]
  },
  {
   "cell_type": "code",
   "execution_count": 176,
   "metadata": {},
   "outputs": [
    {
     "name": "stdout",
     "output_type": "stream",
     "text": [
      "Среднее количество просмотров у пользователя user1 равно 5.25\n",
      "Среднее количество просмотров у пользователя user2 равно 7.0\n",
      "Среднее количество просмотров у пользователя user3 равно 7.0\n",
      "Среднее количество просмотров у пользователя user4 равно 10.2\n"
     ]
    }
   ],
   "source": [
    "users = {} # Записываем в словарь userid : [count, average]\n",
    "for line_str in stream:\n",
    "    line = line_str.split(',')\n",
    "    user_name = line[1]\n",
    "    users.setdefault(user_name, [0,0])\n",
    "    count, avg = users[user_name]\n",
    "    sum_ = count * avg + int(line[2])\n",
    "    count += 1\n",
    "    avg = sum_ / count\n",
    "    users[user_name] = [count, avg]\n",
    "\n",
    "for user in users.items():\n",
    "    print('Среднее количество просмотров у пользователя {} равно {}'.format(user[0], user[1][1]))"
   ]
  },
  {
   "cell_type": "markdown",
   "metadata": {},
   "source": [
    "**Задание 6**\n",
    "\n",
    "Дана статистика рекламных кампаний по дням. \n",
    "Напишите алгоритм, который по паре дата-кампания ищет значение численного столбца. \n",
    "Т. е. для даты '2018-01-01' и 'google' нужно получить число 25.\n",
    "Считайте, что все комбинации дата-кампания уникальны, а список stats легко помещается в оперативной памяти."
   ]
  },
  {
   "cell_type": "code",
   "execution_count": 177,
   "metadata": {},
   "outputs": [],
   "source": [
    "stats = [\n",
    "    ['2018-01-01', 'google', 25],\n",
    "    ['2018-01-01', 'yandex', 65],\n",
    "    ['2018-01-01', 'market', 89],\n",
    "    ['2018-01-02', 'google', 574],\n",
    "    ['2018-01-02', 'yandex', 249],\n",
    "    ['2018-01-02', 'market', 994],\n",
    "    ['2018-01-03', 'google', 1843],\n",
    "    ['2018-01-03', 'yandex', 1327],\n",
    "    ['2018-01-03', 'market', 1764],\n",
    "]"
   ]
  },
  {
   "cell_type": "code",
   "execution_count": 178,
   "metadata": {},
   "outputs": [
    {
     "name": "stdout",
     "output_type": "stream",
     "text": [
      "{('2018-01-01', 'google'): 25, ('2018-01-01', 'yandex'): 65, ('2018-01-01', 'market'): 89, ('2018-01-02', 'google'): 574, ('2018-01-02', 'yandex'): 249, ('2018-01-02', 'market'): 994, ('2018-01-03', 'google'): 1843, ('2018-01-03', 'yandex'): 1327, ('2018-01-03', 'market'): 1764}\n",
      "25\n"
     ]
    }
   ],
   "source": [
    "stats_dict = {}\n",
    "for line in stats:\n",
    "    stats_dict.setdefault((line[0], line[1]), 0)\n",
    "    stats_dict[(line[0], line[1])] = line[2]\n",
    "\n",
    "print(stats_dict)\n",
    "print(stats_dict[('2018-01-01', 'google' )])"
   ]
  }
 ],
 "metadata": {
  "kernelspec": {
   "display_name": "Python 3",
   "language": "python",
   "name": "python3"
  },
  "language_info": {
   "codemirror_mode": {
    "name": "ipython",
    "version": 3
   },
   "file_extension": ".py",
   "mimetype": "text/x-python",
   "name": "python",
   "nbconvert_exporter": "python",
   "pygments_lexer": "ipython3",
   "version": "3.6.6"
  }
 },
 "nbformat": 4,
 "nbformat_minor": 2
}
