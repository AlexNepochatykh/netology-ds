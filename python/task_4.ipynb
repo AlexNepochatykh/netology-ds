{
 "cells": [
  {
   "cell_type": "markdown",
   "metadata": {},
   "source": [
    "**Задание 1**\n",
    "\n",
    "Напишите функцию date_range, которая возвращает список дней между датами start_date и end_date. Даты должны вводиться в формате YYYY-MM-DD.\n",
    "\n"
   ]
  },
  {
   "cell_type": "code",
   "execution_count": 1,
   "metadata": {},
   "outputs": [],
   "source": [
    "from datetime import datetime, timedelta, date"
   ]
  },
  {
   "cell_type": "code",
   "execution_count": 2,
   "metadata": {},
   "outputs": [],
   "source": [
    "def date_range(start_date, end_date):\n",
    "    '''\n",
    "    Вернуть список дней между датами start_date и end_date\n",
    "    '''\n",
    "    start_datetime = datetime.strptime(start_date, '%Y-%m-%d')\n",
    "    end_datetime = datetime.strptime(end_date, '%Y-%m-%d')\n",
    "    \n",
    "    date_list = []\n",
    "    current_dt = start_datetime\n",
    "    while current_dt <= end_datetime:\n",
    "        date_list.append(current_dt.strftime('%Y-%m-%d'))\n",
    "        current_dt += timedelta(days=1)\n",
    "    \n",
    "    return date_list"
   ]
  },
  {
   "cell_type": "code",
   "execution_count": 3,
   "metadata": {},
   "outputs": [
    {
     "name": "stdout",
     "output_type": "stream",
     "text": [
      "['2019-02-02', '2019-02-03', '2019-02-04', '2019-02-05']\n"
     ]
    }
   ],
   "source": [
    "print(date_range(start_date='2019-02-02', end_date='2019-02-05'))"
   ]
  },
  {
   "cell_type": "markdown",
   "metadata": {},
   "source": [
    "**Задание 2**\n",
    "\n",
    "Дополните функцию из первого задания проверкой на корректность дат. В случае неверного формата или если start_date > end_date должен возвращаться пустой список.\n"
   ]
  },
  {
   "cell_type": "code",
   "execution_count": 4,
   "metadata": {},
   "outputs": [],
   "source": [
    "def safe_date_range(start_date, end_date):\n",
    "    '''\n",
    "    Вернуть список дней между датами start_date и end_date. В случае ошибки заведения формата - выдать пустой список\n",
    "    '''\n",
    "    try:\n",
    "        start_datetime = datetime.strptime(start_date, '%Y-%m-%d')\n",
    "        end_datetime = datetime.strptime(end_date, '%Y-%m-%d')\n",
    "    except:\n",
    "        return []\n",
    "    \n",
    "    if (start_datetime > end_datetime):\n",
    "        return []\n",
    "    \n",
    "    date_list = []\n",
    "    current_dt = start_datetime\n",
    "    while current_dt <= end_datetime:\n",
    "        date_list.append(current_dt.strftime('%Y-%m-%d'))\n",
    "        current_dt += timedelta(days=1)\n",
    "    \n",
    "    return date_list"
   ]
  },
  {
   "cell_type": "code",
   "execution_count": 5,
   "metadata": {},
   "outputs": [
    {
     "name": "stdout",
     "output_type": "stream",
     "text": [
      "[]\n"
     ]
    }
   ],
   "source": [
    "print(safe_date_range(start_date='2019-02-02', end_date='2019-02-01'))"
   ]
  },
  {
   "cell_type": "markdown",
   "metadata": {},
   "source": [
    "**Задание 3**\n",
    "\n",
    "Дан поток дат в формате YYYY-MM-DD, в которых встречаются некорректные значения:\n",
    "stream = [‘2018-04-02’, ‘2018-02-29’, ‘2018-19-02’]\n",
    "Напишите функцию, которая проверяет эти даты на корректность. Т. е. для каждой даты возвращает True (дата корректна) или False (некорректная дата)."
   ]
  },
  {
   "cell_type": "code",
   "execution_count": 6,
   "metadata": {},
   "outputs": [],
   "source": [
    "stream = ['2018-04-02', '2018-02-29', '2018-19-02']"
   ]
  },
  {
   "cell_type": "code",
   "execution_count": 7,
   "metadata": {},
   "outputs": [],
   "source": [
    "def check_dates(stream, format='%Y-%m-%d'):\n",
    "    '''\n",
    "    Проверить список дат на корректность значений\n",
    "    '''\n",
    "    for date_ in stream:\n",
    "        try:\n",
    "            datetime.strptime(date_, format)\n",
    "            print(date_, True)\n",
    "        except ValueError:\n",
    "            print(date_, False)  "
   ]
  },
  {
   "cell_type": "code",
   "execution_count": 8,
   "metadata": {},
   "outputs": [
    {
     "name": "stdout",
     "output_type": "stream",
     "text": [
      "2018-04-02 True\n",
      "2018-02-29 False\n",
      "2018-19-02 False\n"
     ]
    }
   ],
   "source": [
    "check_dates(stream)"
   ]
  },
  {
   "cell_type": "markdown",
   "metadata": {},
   "source": [
    "**Задание 4**\n",
    "\n",
    "Напишите функцию, которая возвращает список дат с 1 по вчерашний день текущего месяца. Если дан 1 день месяца, то возвращается список дней прошлого месяца."
   ]
  },
  {
   "cell_type": "code",
   "execution_count": 9,
   "metadata": {},
   "outputs": [],
   "source": [
    "def get_current_month_dates():\n",
    "    '''\n",
    "    Вернуть список дат с 1 по вчерашний день текущего месяца или для 1го дня месяца вернуть список дней прошлого месяца\n",
    "    '''\n",
    "    dates = []\n",
    "    cur_date = datetime.today() \n",
    "    if cur_date.day == 1:\n",
    "        end_date = cur_date\n",
    "        cur_date = cur_date.replace(month=cur_date.month - 1)\n",
    "    else:\n",
    "        end_date = cur_date\n",
    "        cur_date = cur_date.replace(day = 1)\n",
    "        \n",
    "    while cur_date < end_date:\n",
    "        dates.append(cur_date.strftime('%Y-%m-%d'))\n",
    "        cur_date += timedelta(days=1)\n",
    "    \n",
    "    return dates"
   ]
  },
  {
   "cell_type": "code",
   "execution_count": 10,
   "metadata": {
    "scrolled": true
   },
   "outputs": [
    {
     "data": {
      "text/plain": [
       "['2019-03-01',\n",
       " '2019-03-02',\n",
       " '2019-03-03',\n",
       " '2019-03-04',\n",
       " '2019-03-05',\n",
       " '2019-03-06',\n",
       " '2019-03-07',\n",
       " '2019-03-08',\n",
       " '2019-03-09',\n",
       " '2019-03-10',\n",
       " '2019-03-11',\n",
       " '2019-03-12',\n",
       " '2019-03-13',\n",
       " '2019-03-14',\n",
       " '2019-03-15',\n",
       " '2019-03-16',\n",
       " '2019-03-17',\n",
       " '2019-03-18',\n",
       " '2019-03-19',\n",
       " '2019-03-20',\n",
       " '2019-03-21',\n",
       " '2019-03-22']"
      ]
     },
     "execution_count": 10,
     "metadata": {},
     "output_type": "execute_result"
    }
   ],
   "source": [
    "get_current_month_dates()"
   ]
  },
  {
   "cell_type": "markdown",
   "metadata": {},
   "source": [
    "**Задание 5**\n",
    "Напишите функцию, которая возвращает точную дату в формате YYYY-MM-DD по фразе:\n",
    "\n",
    "    ‘today’ - сегодняшнюю дату\n",
    "    ‘last monday’ - прошлый понедельник\n",
    "    ‘last day’ - Последний день текущего месяца\n"
   ]
  },
  {
   "cell_type": "code",
   "execution_count": 11,
   "metadata": {},
   "outputs": [],
   "source": [
    "def get_pretty_date(phrase):\n",
    "    '''\n",
    "    Получить дату в формате YYYY-MM-DD по фразе\n",
    "    '''\n",
    "    #cur_date = cur_date.replace(month=today.month - 1)\n",
    "    today = date.today()\n",
    "    if phrase == 'today':\n",
    "        return today.strftime('%Y-%m-%d')\n",
    "    if phrase == 'last monday':\n",
    "        day = today + timedelta(weeks=-1, days=-today.weekday())\n",
    "        return day.strftime('%Y-%m-%d')\n",
    "    if phrase == 'last day':\n",
    "        day = today.replace(month=today.month + 1, day=1) + timedelta(days=-1)\n",
    "        return day.strftime('%Y-%m-%d')"
   ]
  },
  {
   "cell_type": "code",
   "execution_count": 12,
   "metadata": {},
   "outputs": [
    {
     "name": "stdout",
     "output_type": "stream",
     "text": [
      "Сегодняшний день : 2019-03-23\n",
      "Прошлый понедельник : 2019-03-11\n",
      "Последний день текущего месяца : 2019-03-31\n"
     ]
    }
   ],
   "source": [
    "print('Сегодняшний день : {}'.format(get_pretty_date('today')))\n",
    "print('Прошлый понедельник : {}'.format(get_pretty_date('last monday')))\n",
    "print('Последний день текущего месяца : {}'.format(get_pretty_date('last day')))"
   ]
  }
 ],
 "metadata": {
  "kernelspec": {
   "display_name": "Python 3",
   "language": "python",
   "name": "python3"
  },
  "language_info": {
   "codemirror_mode": {
    "name": "ipython",
    "version": 3
   },
   "file_extension": ".py",
   "mimetype": "text/x-python",
   "name": "python",
   "nbconvert_exporter": "python",
   "pygments_lexer": "ipython3",
   "version": "3.6.6"
  }
 },
 "nbformat": 4,
 "nbformat_minor": 2
}
